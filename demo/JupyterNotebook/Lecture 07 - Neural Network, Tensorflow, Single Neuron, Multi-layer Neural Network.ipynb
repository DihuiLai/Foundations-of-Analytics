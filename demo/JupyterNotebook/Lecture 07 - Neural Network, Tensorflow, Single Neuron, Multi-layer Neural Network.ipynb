{
 "cells": [
  {
   "cell_type": "markdown",
   "metadata": {},
   "source": [
    "## Lecture 07 - Neural Network, Tensorflow, Single Neuron, Multi-layer Neural Network"
   ]
  },
  {
   "cell_type": "markdown",
   "metadata": {},
   "source": [
    "## Install tensorflow\n",
    "```pip install --upgrade pip```\n",
    "\n",
    "```pip install tensorflow```"
   ]
  },
  {
   "cell_type": "code",
   "execution_count": 1,
   "metadata": {},
   "outputs": [],
   "source": [
    "import numpy as np\n",
    "import pandas as pd\n",
    "import tensorflow as tf\n",
    "from tensorflow.keras import layers\n",
    "from sklearn.metrics import roc_auc_score, accuracy_score"
   ]
  },
  {
   "cell_type": "code",
   "execution_count": 2,
   "metadata": {},
   "outputs": [
    {
     "data": {
      "text/plain": [
       "'2.7.0'"
      ]
     },
     "execution_count": 2,
     "metadata": {},
     "output_type": "execute_result"
    }
   ],
   "source": [
    "tf.__version__"
   ]
  },
  {
   "cell_type": "code",
   "execution_count": 3,
   "metadata": {},
   "outputs": [],
   "source": [
    "logData=pd.read_csv(\"./Data/logistic_regression_optimization.csv\")"
   ]
  },
  {
   "cell_type": "code",
   "execution_count": 4,
   "metadata": {},
   "outputs": [],
   "source": [
    "x = logData.iloc[:, 0:-1].values \n",
    "y = logData.iloc[:, -1:].values "
   ]
  },
  {
   "cell_type": "code",
   "execution_count": 9,
   "metadata": {},
   "outputs": [],
   "source": [
    "from sklearn.linear_model import LogisticRegression"
   ]
  },
  {
   "cell_type": "code",
   "execution_count": 13,
   "metadata": {},
   "outputs": [
    {
     "name": "stdout",
     "output_type": "stream",
     "text": [
      "[array([[3.83389295, 1.1991905 , 4.52605611]]), array([-4.92802048])]\n"
     ]
    },
    {
     "name": "stderr",
     "output_type": "stream",
     "text": [
      "/home/dlai/Projects/Foundations_of_Analytics/demo/JupyterNotebook/analyticvenv/lib/python3.6/site-packages/sklearn/utils/validation.py:760: DataConversionWarning: A column-vector y was passed when a 1d array was expected. Please change the shape of y to (n_samples, ), for example using ravel().\n",
      "  y = column_or_1d(y, warn=True)\n"
     ]
    }
   ],
   "source": [
    "clf = LogisticRegression(penalty='none', solver='lbfgs').fit(x, y)#Build a Logistic Regression Model\n",
    "print([clf.coef_, clf.intercept_])"
   ]
  },
  {
   "cell_type": "markdown",
   "metadata": {},
   "source": [
    "## Logistic regression with a single neuron Neural Network"
   ]
  },
  {
   "cell_type": "markdown",
   "metadata": {},
   "source": [
    "### Create a nerual network of 1 neuron an 3 inputs  $x_1, x_2, x_3$ and that output $a$\n",
    "i.e.\n",
    "### $a=\\frac{1}{1+exp\\left(-(w_0+w_1 x_1+w_2 x_2+w_3 x_3)\\right)}$\n",
    "\n",
    "Loss function: binary_crossentropy which is\n",
    "\n",
    "### $L=-\\sum\\limits_{i=1}^{N}(y^ilog(a^i)+(1-y^i)log(1-a^i))$\n",
    "which is equivalent to binomial likelihood function except for a negative sign\n"
   ]
  },
  {
   "cell_type": "code",
   "execution_count": 5,
   "metadata": {},
   "outputs": [
    {
     "name": "stderr",
     "output_type": "stream",
     "text": [
      "2021-11-17 19:54:05.514960: I tensorflow/core/platform/cpu_feature_guard.cc:151] This TensorFlow binary is optimized with oneAPI Deep Neural Network Library (oneDNN) to use the following CPU instructions in performance-critical operations:  AVX2 FMA\n",
      "To enable them in other operations, rebuild TensorFlow with the appropriate compiler flags.\n"
     ]
    }
   ],
   "source": [
    "model = tf.keras.Sequential() # start a sequential neuron\n",
    "model.add(layers.Dense(1, input_shape=(3,),use_bias=True, activation='sigmoid'))\n",
    "\n",
    "model.compile(optimizer=tf.keras.optimizers.Adam(0.01),\n",
    "              loss='binary_crossentropy', metrics=['accuracy']) # define loss function and optimization methods"
   ]
  },
  {
   "cell_type": "code",
   "execution_count": 6,
   "metadata": {},
   "outputs": [
    {
     "data": {
      "text/plain": [
       "[array([[0.76937866],\n",
       "        [0.9621552 ],\n",
       "        [0.05156958]], dtype=float32),\n",
       " array([0.], dtype=float32)]"
      ]
     },
     "execution_count": 6,
     "metadata": {},
     "output_type": "execute_result"
    }
   ],
   "source": [
    "model.get_weights() #initial weights"
   ]
  },
  {
   "cell_type": "code",
   "execution_count": 80,
   "metadata": {},
   "outputs": [
    {
     "data": {
      "text/plain": [
       "0.5465011561672699"
      ]
     },
     "execution_count": 80,
     "metadata": {},
     "output_type": "execute_result"
    }
   ],
   "source": [
    "testinput=np.array([0, 1, 0])\n",
    "1/(1+np.exp(-np.dot(model.get_weights()[0].reshape(-1),testinput))) #logistic function"
   ]
  },
  {
   "cell_type": "code",
   "execution_count": 81,
   "metadata": {},
   "outputs": [
    {
     "data": {
      "text/plain": [
       "array([[0.54650116]], dtype=float32)"
      ]
     },
     "execution_count": 81,
     "metadata": {},
     "output_type": "execute_result"
    }
   ],
   "source": [
    "np.array(model(np.array([[0, 1, 0]])))"
   ]
  },
  {
   "cell_type": "code",
   "execution_count": 82,
   "metadata": {},
   "outputs": [
    {
     "name": "stdout",
     "output_type": "stream",
     "text": [
      "Train on 4000 samples, validate on 1000 samples\n",
      "Epoch 1/200\n",
      "4000/4000 [==============================] - 0s 59us/sample - loss: 0.2882 - accuracy: 0.8692 - val_loss: 0.2214 - val_accuracy: 0.9190\n",
      "Epoch 2/200\n",
      "4000/4000 [==============================] - 0s 16us/sample - loss: 0.2115 - accuracy: 0.9178 - val_loss: 0.1763 - val_accuracy: 0.9520\n",
      "Epoch 3/200\n",
      "4000/4000 [==============================] - 0s 16us/sample - loss: 0.1776 - accuracy: 0.9395 - val_loss: 0.1524 - val_accuracy: 0.9590\n",
      "Epoch 4/200\n",
      "4000/4000 [==============================] - 0s 16us/sample - loss: 0.1596 - accuracy: 0.9467 - val_loss: 0.1378 - val_accuracy: 0.9650\n",
      "Epoch 5/200\n",
      "4000/4000 [==============================] - 0s 16us/sample - loss: 0.1479 - accuracy: 0.9492 - val_loss: 0.1297 - val_accuracy: 0.9660\n",
      "Epoch 6/200\n",
      "4000/4000 [==============================] - 0s 16us/sample - loss: 0.1405 - accuracy: 0.9490 - val_loss: 0.1225 - val_accuracy: 0.9690\n",
      "Epoch 7/200\n",
      "4000/4000 [==============================] - 0s 16us/sample - loss: 0.1352 - accuracy: 0.9482 - val_loss: 0.1182 - val_accuracy: 0.9660\n",
      "Epoch 8/200\n",
      "4000/4000 [==============================] - 0s 17us/sample - loss: 0.1308 - accuracy: 0.9505 - val_loss: 0.1130 - val_accuracy: 0.9660\n",
      "Epoch 9/200\n",
      "4000/4000 [==============================] - 0s 17us/sample - loss: 0.1281 - accuracy: 0.9480 - val_loss: 0.1096 - val_accuracy: 0.9650\n",
      "Epoch 10/200\n",
      "4000/4000 [==============================] - 0s 17us/sample - loss: 0.1257 - accuracy: 0.9485 - val_loss: 0.1069 - val_accuracy: 0.9680\n",
      "Epoch 11/200\n",
      "4000/4000 [==============================] - 0s 17us/sample - loss: 0.1237 - accuracy: 0.9485 - val_loss: 0.1056 - val_accuracy: 0.9660\n",
      "Epoch 12/200\n",
      "4000/4000 [==============================] - 0s 17us/sample - loss: 0.1225 - accuracy: 0.9482 - val_loss: 0.1034 - val_accuracy: 0.9670\n",
      "Epoch 13/200\n",
      "4000/4000 [==============================] - 0s 17us/sample - loss: 0.1209 - accuracy: 0.9490 - val_loss: 0.1025 - val_accuracy: 0.9660\n",
      "Epoch 14/200\n",
      "4000/4000 [==============================] - 0s 17us/sample - loss: 0.1196 - accuracy: 0.9505 - val_loss: 0.1004 - val_accuracy: 0.9670\n",
      "Epoch 15/200\n",
      "4000/4000 [==============================] - 0s 19us/sample - loss: 0.1184 - accuracy: 0.9492 - val_loss: 0.0992 - val_accuracy: 0.9670\n",
      "Epoch 16/200\n",
      "4000/4000 [==============================] - 0s 18us/sample - loss: 0.1177 - accuracy: 0.9500 - val_loss: 0.0982 - val_accuracy: 0.9670\n",
      "Epoch 17/200\n",
      "4000/4000 [==============================] - 0s 17us/sample - loss: 0.1174 - accuracy: 0.9485 - val_loss: 0.0977 - val_accuracy: 0.9670\n",
      "Epoch 18/200\n",
      "4000/4000 [==============================] - 0s 19us/sample - loss: 0.1165 - accuracy: 0.9500 - val_loss: 0.0971 - val_accuracy: 0.9670\n",
      "Epoch 19/200\n",
      "4000/4000 [==============================] - 0s 18us/sample - loss: 0.1164 - accuracy: 0.9485 - val_loss: 0.0965 - val_accuracy: 0.9670\n",
      "Epoch 20/200\n",
      "4000/4000 [==============================] - 0s 18us/sample - loss: 0.1156 - accuracy: 0.9477 - val_loss: 0.0965 - val_accuracy: 0.9650\n",
      "Epoch 21/200\n",
      "4000/4000 [==============================] - 0s 17us/sample - loss: 0.1157 - accuracy: 0.9492 - val_loss: 0.0958 - val_accuracy: 0.9660\n",
      "Epoch 22/200\n",
      "4000/4000 [==============================] - 0s 17us/sample - loss: 0.1152 - accuracy: 0.9495 - val_loss: 0.0950 - val_accuracy: 0.9670\n",
      "Epoch 23/200\n",
      "4000/4000 [==============================] - 0s 17us/sample - loss: 0.1150 - accuracy: 0.9495 - val_loss: 0.0942 - val_accuracy: 0.9660\n",
      "Epoch 24/200\n",
      "4000/4000 [==============================] - 0s 18us/sample - loss: 0.1146 - accuracy: 0.9500 - val_loss: 0.0947 - val_accuracy: 0.9650\n",
      "Epoch 25/200\n",
      "4000/4000 [==============================] - 0s 16us/sample - loss: 0.1145 - accuracy: 0.9490 - val_loss: 0.0933 - val_accuracy: 0.9670\n",
      "Epoch 26/200\n",
      "4000/4000 [==============================] - 0s 16us/sample - loss: 0.1143 - accuracy: 0.9490 - val_loss: 0.0938 - val_accuracy: 0.9660\n",
      "Epoch 27/200\n",
      "4000/4000 [==============================] - 0s 17us/sample - loss: 0.1141 - accuracy: 0.9488 - val_loss: 0.0934 - val_accuracy: 0.9650\n",
      "Epoch 28/200\n",
      "4000/4000 [==============================] - 0s 17us/sample - loss: 0.1140 - accuracy: 0.9503 - val_loss: 0.0929 - val_accuracy: 0.9670\n",
      "Epoch 29/200\n",
      "4000/4000 [==============================] - 0s 18us/sample - loss: 0.1139 - accuracy: 0.9500 - val_loss: 0.0922 - val_accuracy: 0.9670\n",
      "Epoch 30/200\n",
      "4000/4000 [==============================] - 0s 16us/sample - loss: 0.1138 - accuracy: 0.9495 - val_loss: 0.0919 - val_accuracy: 0.9670\n",
      "Epoch 31/200\n",
      "4000/4000 [==============================] - 0s 17us/sample - loss: 0.1143 - accuracy: 0.9490 - val_loss: 0.0921 - val_accuracy: 0.9680\n",
      "Epoch 32/200\n",
      "4000/4000 [==============================] - 0s 18us/sample - loss: 0.1134 - accuracy: 0.9503 - val_loss: 0.0939 - val_accuracy: 0.9660\n",
      "Epoch 33/200\n",
      "4000/4000 [==============================] - 0s 18us/sample - loss: 0.1134 - accuracy: 0.9507 - val_loss: 0.0917 - val_accuracy: 0.9660\n",
      "Epoch 34/200\n",
      "4000/4000 [==============================] - 0s 16us/sample - loss: 0.1133 - accuracy: 0.9503 - val_loss: 0.0912 - val_accuracy: 0.9670\n",
      "Epoch 35/200\n",
      "4000/4000 [==============================] - 0s 16us/sample - loss: 0.1137 - accuracy: 0.9498 - val_loss: 0.0912 - val_accuracy: 0.9670\n",
      "Epoch 36/200\n",
      "4000/4000 [==============================] - 0s 18us/sample - loss: 0.1137 - accuracy: 0.9492 - val_loss: 0.0912 - val_accuracy: 0.9660\n",
      "Epoch 37/200\n",
      "4000/4000 [==============================] - 0s 18us/sample - loss: 0.1137 - accuracy: 0.9520 - val_loss: 0.0912 - val_accuracy: 0.9660\n",
      "Epoch 38/200\n",
      "4000/4000 [==============================] - 0s 17us/sample - loss: 0.1137 - accuracy: 0.9500 - val_loss: 0.0910 - val_accuracy: 0.9660\n",
      "Epoch 39/200\n",
      "4000/4000 [==============================] - 0s 16us/sample - loss: 0.1140 - accuracy: 0.9485 - val_loss: 0.0909 - val_accuracy: 0.9680\n",
      "Epoch 40/200\n",
      "4000/4000 [==============================] - 0s 18us/sample - loss: 0.1132 - accuracy: 0.9503 - val_loss: 0.0907 - val_accuracy: 0.9680\n",
      "Epoch 41/200\n",
      "4000/4000 [==============================] - 0s 17us/sample - loss: 0.1132 - accuracy: 0.9495 - val_loss: 0.0911 - val_accuracy: 0.9680\n",
      "Epoch 42/200\n",
      "4000/4000 [==============================] - 0s 17us/sample - loss: 0.1130 - accuracy: 0.9488 - val_loss: 0.0905 - val_accuracy: 0.9670\n",
      "Epoch 43/200\n",
      "4000/4000 [==============================] - 0s 16us/sample - loss: 0.1132 - accuracy: 0.9498 - val_loss: 0.0906 - val_accuracy: 0.9660\n",
      "Epoch 44/200\n",
      "4000/4000 [==============================] - 0s 17us/sample - loss: 0.1135 - accuracy: 0.9482 - val_loss: 0.0910 - val_accuracy: 0.9660\n",
      "Epoch 45/200\n",
      "4000/4000 [==============================] - 0s 16us/sample - loss: 0.1131 - accuracy: 0.9495 - val_loss: 0.0904 - val_accuracy: 0.9670\n",
      "Epoch 46/200\n",
      "4000/4000 [==============================] - 0s 16us/sample - loss: 0.1130 - accuracy: 0.9495 - val_loss: 0.0904 - val_accuracy: 0.9660\n",
      "Epoch 47/200\n",
      "4000/4000 [==============================] - 0s 18us/sample - loss: 0.1129 - accuracy: 0.9492 - val_loss: 0.0906 - val_accuracy: 0.9660\n",
      "Epoch 48/200\n",
      "4000/4000 [==============================] - 0s 18us/sample - loss: 0.1129 - accuracy: 0.9515 - val_loss: 0.0910 - val_accuracy: 0.9660\n",
      "Epoch 49/200\n",
      "4000/4000 [==============================] - 0s 18us/sample - loss: 0.1130 - accuracy: 0.9507 - val_loss: 0.0904 - val_accuracy: 0.9670\n",
      "Epoch 50/200\n",
      "4000/4000 [==============================] - 0s 15us/sample - loss: 0.1129 - accuracy: 0.9507 - val_loss: 0.0909 - val_accuracy: 0.9650\n",
      "Epoch 51/200\n",
      "4000/4000 [==============================] - 0s 16us/sample - loss: 0.1134 - accuracy: 0.9498 - val_loss: 0.0905 - val_accuracy: 0.9670\n",
      "Epoch 52/200\n",
      "4000/4000 [==============================] - 0s 17us/sample - loss: 0.1129 - accuracy: 0.9492 - val_loss: 0.0901 - val_accuracy: 0.9670\n",
      "Epoch 53/200\n",
      "4000/4000 [==============================] - 0s 18us/sample - loss: 0.1129 - accuracy: 0.9485 - val_loss: 0.0904 - val_accuracy: 0.9670\n",
      "Epoch 54/200\n",
      "4000/4000 [==============================] - 0s 18us/sample - loss: 0.1134 - accuracy: 0.9490 - val_loss: 0.0898 - val_accuracy: 0.9670\n",
      "Epoch 55/200\n",
      "4000/4000 [==============================] - 0s 18us/sample - loss: 0.1128 - accuracy: 0.9490 - val_loss: 0.0901 - val_accuracy: 0.9670\n"
     ]
    },
    {
     "name": "stdout",
     "output_type": "stream",
     "text": [
      "Epoch 56/200\n",
      "4000/4000 [==============================] - 0s 17us/sample - loss: 0.1128 - accuracy: 0.9500 - val_loss: 0.0902 - val_accuracy: 0.9660\n",
      "Epoch 57/200\n",
      "4000/4000 [==============================] - 0s 17us/sample - loss: 0.1129 - accuracy: 0.9495 - val_loss: 0.0901 - val_accuracy: 0.9670\n",
      "Epoch 58/200\n",
      "4000/4000 [==============================] - 0s 16us/sample - loss: 0.1127 - accuracy: 0.9495 - val_loss: 0.0899 - val_accuracy: 0.9670\n",
      "Epoch 59/200\n",
      "4000/4000 [==============================] - 0s 17us/sample - loss: 0.1134 - accuracy: 0.9503 - val_loss: 0.0903 - val_accuracy: 0.9670\n",
      "Epoch 60/200\n",
      "4000/4000 [==============================] - 0s 16us/sample - loss: 0.1135 - accuracy: 0.9498 - val_loss: 0.0904 - val_accuracy: 0.9660\n",
      "Epoch 61/200\n",
      "4000/4000 [==============================] - 0s 16us/sample - loss: 0.1128 - accuracy: 0.9477 - val_loss: 0.0902 - val_accuracy: 0.9670\n",
      "Epoch 62/200\n",
      "4000/4000 [==============================] - 0s 17us/sample - loss: 0.1135 - accuracy: 0.9498 - val_loss: 0.0901 - val_accuracy: 0.9660\n",
      "Epoch 63/200\n",
      "4000/4000 [==============================] - 0s 15us/sample - loss: 0.1128 - accuracy: 0.9505 - val_loss: 0.0897 - val_accuracy: 0.9680\n",
      "Epoch 64/200\n",
      "4000/4000 [==============================] - 0s 16us/sample - loss: 0.1129 - accuracy: 0.9495 - val_loss: 0.0898 - val_accuracy: 0.9670\n",
      "Epoch 65/200\n",
      "4000/4000 [==============================] - 0s 16us/sample - loss: 0.1128 - accuracy: 0.9500 - val_loss: 0.0899 - val_accuracy: 0.9670\n",
      "Epoch 66/200\n",
      "4000/4000 [==============================] - 0s 17us/sample - loss: 0.1129 - accuracy: 0.9498 - val_loss: 0.0899 - val_accuracy: 0.9670\n",
      "Epoch 67/200\n",
      "4000/4000 [==============================] - 0s 16us/sample - loss: 0.1127 - accuracy: 0.9500 - val_loss: 0.0908 - val_accuracy: 0.9650\n",
      "Epoch 68/200\n",
      "4000/4000 [==============================] - 0s 16us/sample - loss: 0.1129 - accuracy: 0.9490 - val_loss: 0.0898 - val_accuracy: 0.9670\n",
      "Epoch 69/200\n",
      "4000/4000 [==============================] - 0s 17us/sample - loss: 0.1130 - accuracy: 0.9495 - val_loss: 0.0896 - val_accuracy: 0.9670\n",
      "Epoch 70/200\n",
      "4000/4000 [==============================] - 0s 16us/sample - loss: 0.1130 - accuracy: 0.9485 - val_loss: 0.0902 - val_accuracy: 0.9660\n",
      "Epoch 71/200\n",
      "4000/4000 [==============================] - 0s 16us/sample - loss: 0.1132 - accuracy: 0.9488 - val_loss: 0.0910 - val_accuracy: 0.9660\n",
      "Epoch 72/200\n",
      "4000/4000 [==============================] - 0s 16us/sample - loss: 0.1128 - accuracy: 0.9498 - val_loss: 0.0898 - val_accuracy: 0.9670\n",
      "Epoch 73/200\n",
      "4000/4000 [==============================] - 0s 16us/sample - loss: 0.1128 - accuracy: 0.9490 - val_loss: 0.0902 - val_accuracy: 0.9650\n",
      "Epoch 74/200\n",
      "4000/4000 [==============================] - 0s 17us/sample - loss: 0.1128 - accuracy: 0.9490 - val_loss: 0.0896 - val_accuracy: 0.9660\n",
      "Epoch 75/200\n",
      "4000/4000 [==============================] - 0s 16us/sample - loss: 0.1129 - accuracy: 0.9492 - val_loss: 0.0897 - val_accuracy: 0.9670\n",
      "Epoch 76/200\n",
      "4000/4000 [==============================] - 0s 17us/sample - loss: 0.1128 - accuracy: 0.9498 - val_loss: 0.0899 - val_accuracy: 0.9680\n",
      "Epoch 77/200\n",
      "4000/4000 [==============================] - 0s 16us/sample - loss: 0.1127 - accuracy: 0.9495 - val_loss: 0.0899 - val_accuracy: 0.9660\n",
      "Epoch 78/200\n",
      "4000/4000 [==============================] - 0s 17us/sample - loss: 0.1131 - accuracy: 0.9492 - val_loss: 0.0893 - val_accuracy: 0.9670\n",
      "Epoch 79/200\n",
      "4000/4000 [==============================] - 0s 16us/sample - loss: 0.1131 - accuracy: 0.9503 - val_loss: 0.0894 - val_accuracy: 0.9670\n",
      "Epoch 80/200\n",
      "4000/4000 [==============================] - 0s 16us/sample - loss: 0.1131 - accuracy: 0.9492 - val_loss: 0.0898 - val_accuracy: 0.9670\n",
      "Epoch 81/200\n",
      "4000/4000 [==============================] - 0s 17us/sample - loss: 0.1132 - accuracy: 0.9490 - val_loss: 0.0898 - val_accuracy: 0.9670\n",
      "Epoch 82/200\n",
      "4000/4000 [==============================] - 0s 16us/sample - loss: 0.1130 - accuracy: 0.9490 - val_loss: 0.0898 - val_accuracy: 0.9670\n",
      "Epoch 83/200\n",
      "4000/4000 [==============================] - 0s 17us/sample - loss: 0.1128 - accuracy: 0.9500 - val_loss: 0.0897 - val_accuracy: 0.9670\n",
      "Epoch 84/200\n",
      "4000/4000 [==============================] - 0s 17us/sample - loss: 0.1130 - accuracy: 0.9492 - val_loss: 0.0894 - val_accuracy: 0.9660\n",
      "Epoch 85/200\n",
      "4000/4000 [==============================] - 0s 17us/sample - loss: 0.1131 - accuracy: 0.9495 - val_loss: 0.0895 - val_accuracy: 0.9680\n",
      "Epoch 86/200\n",
      "4000/4000 [==============================] - 0s 16us/sample - loss: 0.1130 - accuracy: 0.9507 - val_loss: 0.0895 - val_accuracy: 0.9660\n",
      "Epoch 87/200\n",
      "4000/4000 [==============================] - 0s 16us/sample - loss: 0.1133 - accuracy: 0.9477 - val_loss: 0.0896 - val_accuracy: 0.9670\n",
      "Epoch 88/200\n",
      "4000/4000 [==============================] - 0s 17us/sample - loss: 0.1131 - accuracy: 0.9490 - val_loss: 0.0895 - val_accuracy: 0.9660\n",
      "Epoch 89/200\n",
      "4000/4000 [==============================] - 0s 16us/sample - loss: 0.1131 - accuracy: 0.9492 - val_loss: 0.0897 - val_accuracy: 0.9660\n",
      "Epoch 90/200\n",
      "4000/4000 [==============================] - 0s 15us/sample - loss: 0.1131 - accuracy: 0.9492 - val_loss: 0.0896 - val_accuracy: 0.9660\n",
      "Epoch 91/200\n",
      "4000/4000 [==============================] - 0s 17us/sample - loss: 0.1137 - accuracy: 0.9477 - val_loss: 0.0898 - val_accuracy: 0.9660\n",
      "Epoch 92/200\n",
      "4000/4000 [==============================] - 0s 16us/sample - loss: 0.1132 - accuracy: 0.9492 - val_loss: 0.0899 - val_accuracy: 0.9660\n",
      "Epoch 93/200\n",
      "4000/4000 [==============================] - 0s 16us/sample - loss: 0.1136 - accuracy: 0.9490 - val_loss: 0.0897 - val_accuracy: 0.9670\n",
      "Epoch 94/200\n",
      "4000/4000 [==============================] - 0s 16us/sample - loss: 0.1128 - accuracy: 0.9495 - val_loss: 0.0896 - val_accuracy: 0.9670\n",
      "Epoch 95/200\n",
      "4000/4000 [==============================] - 0s 17us/sample - loss: 0.1131 - accuracy: 0.9485 - val_loss: 0.0897 - val_accuracy: 0.9670\n",
      "Epoch 96/200\n",
      "4000/4000 [==============================] - 0s 15us/sample - loss: 0.1130 - accuracy: 0.9488 - val_loss: 0.0894 - val_accuracy: 0.9670\n",
      "Epoch 97/200\n",
      "4000/4000 [==============================] - 0s 17us/sample - loss: 0.1133 - accuracy: 0.9498 - val_loss: 0.0893 - val_accuracy: 0.9680\n",
      "Epoch 98/200\n",
      "4000/4000 [==============================] - 0s 16us/sample - loss: 0.1128 - accuracy: 0.9488 - val_loss: 0.0894 - val_accuracy: 0.9660\n",
      "Epoch 99/200\n",
      "4000/4000 [==============================] - 0s 17us/sample - loss: 0.1130 - accuracy: 0.9505 - val_loss: 0.0910 - val_accuracy: 0.9670\n",
      "Epoch 100/200\n",
      "4000/4000 [==============================] - 0s 16us/sample - loss: 0.1126 - accuracy: 0.9503 - val_loss: 0.0894 - val_accuracy: 0.9670\n",
      "Epoch 101/200\n",
      "4000/4000 [==============================] - 0s 17us/sample - loss: 0.1129 - accuracy: 0.9500 - val_loss: 0.0896 - val_accuracy: 0.9670\n",
      "Epoch 102/200\n",
      "4000/4000 [==============================] - 0s 17us/sample - loss: 0.1128 - accuracy: 0.9492 - val_loss: 0.0895 - val_accuracy: 0.9680\n",
      "Epoch 103/200\n",
      "4000/4000 [==============================] - 0s 16us/sample - loss: 0.1134 - accuracy: 0.9482 - val_loss: 0.0896 - val_accuracy: 0.9670\n",
      "Epoch 104/200\n",
      "4000/4000 [==============================] - 0s 16us/sample - loss: 0.1124 - accuracy: 0.9490 - val_loss: 0.0906 - val_accuracy: 0.9650\n",
      "Epoch 105/200\n",
      "4000/4000 [==============================] - 0s 17us/sample - loss: 0.1126 - accuracy: 0.9498 - val_loss: 0.0895 - val_accuracy: 0.9670\n",
      "Epoch 106/200\n",
      "4000/4000 [==============================] - 0s 16us/sample - loss: 0.1138 - accuracy: 0.9503 - val_loss: 0.0896 - val_accuracy: 0.9680\n",
      "Epoch 107/200\n",
      "4000/4000 [==============================] - 0s 17us/sample - loss: 0.1127 - accuracy: 0.9490 - val_loss: 0.0897 - val_accuracy: 0.9660\n",
      "Epoch 108/200\n",
      "4000/4000 [==============================] - 0s 18us/sample - loss: 0.1132 - accuracy: 0.9485 - val_loss: 0.0899 - val_accuracy: 0.9670\n",
      "Epoch 109/200\n",
      "4000/4000 [==============================] - 0s 15us/sample - loss: 0.1130 - accuracy: 0.9500 - val_loss: 0.0898 - val_accuracy: 0.9660\n",
      "Epoch 110/200\n",
      "4000/4000 [==============================] - 0s 18us/sample - loss: 0.1133 - accuracy: 0.9492 - val_loss: 0.0898 - val_accuracy: 0.9670\n"
     ]
    },
    {
     "name": "stdout",
     "output_type": "stream",
     "text": [
      "Epoch 111/200\n",
      "4000/4000 [==============================] - 0s 15us/sample - loss: 0.1126 - accuracy: 0.9488 - val_loss: 0.0896 - val_accuracy: 0.9670\n",
      "Epoch 112/200\n",
      "4000/4000 [==============================] - 0s 17us/sample - loss: 0.1127 - accuracy: 0.9503 - val_loss: 0.0894 - val_accuracy: 0.9670\n",
      "Epoch 113/200\n",
      "4000/4000 [==============================] - 0s 18us/sample - loss: 0.1128 - accuracy: 0.9490 - val_loss: 0.0896 - val_accuracy: 0.9670\n",
      "Epoch 114/200\n",
      "4000/4000 [==============================] - 0s 17us/sample - loss: 0.1126 - accuracy: 0.9500 - val_loss: 0.0895 - val_accuracy: 0.9680\n",
      "Epoch 115/200\n",
      "4000/4000 [==============================] - 0s 18us/sample - loss: 0.1129 - accuracy: 0.9490 - val_loss: 0.0895 - val_accuracy: 0.9670\n",
      "Epoch 116/200\n",
      "4000/4000 [==============================] - 0s 17us/sample - loss: 0.1128 - accuracy: 0.9503 - val_loss: 0.0901 - val_accuracy: 0.9650\n",
      "Epoch 117/200\n",
      "4000/4000 [==============================] - 0s 18us/sample - loss: 0.1132 - accuracy: 0.9488 - val_loss: 0.0896 - val_accuracy: 0.9670\n",
      "Epoch 118/200\n",
      "4000/4000 [==============================] - 0s 16us/sample - loss: 0.1131 - accuracy: 0.9503 - val_loss: 0.0897 - val_accuracy: 0.9670\n",
      "Epoch 119/200\n",
      "4000/4000 [==============================] - 0s 17us/sample - loss: 0.1128 - accuracy: 0.9495 - val_loss: 0.0896 - val_accuracy: 0.9670\n",
      "Epoch 120/200\n",
      "4000/4000 [==============================] - 0s 17us/sample - loss: 0.1135 - accuracy: 0.9480 - val_loss: 0.0893 - val_accuracy: 0.9670\n",
      "Epoch 121/200\n",
      "4000/4000 [==============================] - 0s 16us/sample - loss: 0.1133 - accuracy: 0.9488 - val_loss: 0.0895 - val_accuracy: 0.9670\n",
      "Epoch 122/200\n",
      "4000/4000 [==============================] - 0s 17us/sample - loss: 0.1126 - accuracy: 0.9498 - val_loss: 0.0892 - val_accuracy: 0.9670\n",
      "Epoch 123/200\n",
      "4000/4000 [==============================] - 0s 17us/sample - loss: 0.1129 - accuracy: 0.9498 - val_loss: 0.0895 - val_accuracy: 0.9670\n",
      "Epoch 124/200\n",
      "4000/4000 [==============================] - 0s 18us/sample - loss: 0.1132 - accuracy: 0.9498 - val_loss: 0.0899 - val_accuracy: 0.9660\n",
      "Epoch 125/200\n",
      "4000/4000 [==============================] - 0s 17us/sample - loss: 0.1128 - accuracy: 0.9495 - val_loss: 0.0896 - val_accuracy: 0.9680\n",
      "Epoch 126/200\n",
      "4000/4000 [==============================] - 0s 17us/sample - loss: 0.1130 - accuracy: 0.9495 - val_loss: 0.0898 - val_accuracy: 0.9670\n",
      "Epoch 127/200\n",
      "4000/4000 [==============================] - 0s 16us/sample - loss: 0.1129 - accuracy: 0.9495 - val_loss: 0.0904 - val_accuracy: 0.9660\n",
      "Epoch 128/200\n",
      "4000/4000 [==============================] - 0s 17us/sample - loss: 0.1130 - accuracy: 0.9495 - val_loss: 0.0904 - val_accuracy: 0.9660\n",
      "Epoch 129/200\n",
      "4000/4000 [==============================] - 0s 18us/sample - loss: 0.1129 - accuracy: 0.9498 - val_loss: 0.0896 - val_accuracy: 0.9670\n",
      "Epoch 130/200\n",
      "4000/4000 [==============================] - 0s 17us/sample - loss: 0.1127 - accuracy: 0.9500 - val_loss: 0.0892 - val_accuracy: 0.9670\n",
      "Epoch 131/200\n",
      "4000/4000 [==============================] - 0s 17us/sample - loss: 0.1129 - accuracy: 0.9475 - val_loss: 0.0895 - val_accuracy: 0.9670\n",
      "Epoch 132/200\n",
      "4000/4000 [==============================] - 0s 17us/sample - loss: 0.1127 - accuracy: 0.9498 - val_loss: 0.0903 - val_accuracy: 0.9660\n",
      "Epoch 133/200\n",
      "4000/4000 [==============================] - 0s 17us/sample - loss: 0.1133 - accuracy: 0.9488 - val_loss: 0.0904 - val_accuracy: 0.9660\n",
      "Epoch 134/200\n",
      "4000/4000 [==============================] - 0s 17us/sample - loss: 0.1132 - accuracy: 0.9475 - val_loss: 0.0906 - val_accuracy: 0.9650\n",
      "Epoch 135/200\n",
      "4000/4000 [==============================] - 0s 15us/sample - loss: 0.1128 - accuracy: 0.9500 - val_loss: 0.0893 - val_accuracy: 0.9670\n",
      "Epoch 136/200\n",
      "4000/4000 [==============================] - 0s 17us/sample - loss: 0.1132 - accuracy: 0.9505 - val_loss: 0.0895 - val_accuracy: 0.9660\n",
      "Epoch 137/200\n",
      "4000/4000 [==============================] - 0s 16us/sample - loss: 0.1131 - accuracy: 0.9480 - val_loss: 0.0897 - val_accuracy: 0.9660\n",
      "Epoch 138/200\n",
      "4000/4000 [==============================] - 0s 15us/sample - loss: 0.1131 - accuracy: 0.9488 - val_loss: 0.0895 - val_accuracy: 0.9670\n",
      "Epoch 139/200\n",
      "4000/4000 [==============================] - 0s 16us/sample - loss: 0.1132 - accuracy: 0.9490 - val_loss: 0.0898 - val_accuracy: 0.9660\n",
      "Epoch 140/200\n",
      "4000/4000 [==============================] - 0s 16us/sample - loss: 0.1129 - accuracy: 0.9492 - val_loss: 0.0897 - val_accuracy: 0.9660\n",
      "Epoch 141/200\n",
      "4000/4000 [==============================] - 0s 16us/sample - loss: 0.1130 - accuracy: 0.9482 - val_loss: 0.0900 - val_accuracy: 0.9650\n",
      "Epoch 142/200\n",
      "4000/4000 [==============================] - 0s 16us/sample - loss: 0.1130 - accuracy: 0.9492 - val_loss: 0.0918 - val_accuracy: 0.9640\n",
      "Epoch 143/200\n",
      "4000/4000 [==============================] - 0s 17us/sample - loss: 0.1132 - accuracy: 0.9500 - val_loss: 0.0895 - val_accuracy: 0.9660\n",
      "Epoch 144/200\n",
      "4000/4000 [==============================] - 0s 16us/sample - loss: 0.1134 - accuracy: 0.9488 - val_loss: 0.0895 - val_accuracy: 0.9670\n",
      "Epoch 145/200\n",
      "4000/4000 [==============================] - 0s 20us/sample - loss: 0.1129 - accuracy: 0.9500 - val_loss: 0.0897 - val_accuracy: 0.9680\n",
      "Epoch 146/200\n",
      "4000/4000 [==============================] - 0s 19us/sample - loss: 0.1131 - accuracy: 0.9500 - val_loss: 0.0892 - val_accuracy: 0.9680\n",
      "Epoch 147/200\n",
      "4000/4000 [==============================] - 0s 18us/sample - loss: 0.1129 - accuracy: 0.9492 - val_loss: 0.0893 - val_accuracy: 0.9670\n",
      "Epoch 148/200\n",
      "4000/4000 [==============================] - 0s 17us/sample - loss: 0.1128 - accuracy: 0.9495 - val_loss: 0.0892 - val_accuracy: 0.9670\n",
      "Epoch 149/200\n",
      "4000/4000 [==============================] - 0s 16us/sample - loss: 0.1130 - accuracy: 0.9482 - val_loss: 0.0902 - val_accuracy: 0.9660\n",
      "Epoch 150/200\n",
      "4000/4000 [==============================] - 0s 17us/sample - loss: 0.1131 - accuracy: 0.9488 - val_loss: 0.0895 - val_accuracy: 0.9670\n",
      "Epoch 151/200\n",
      "4000/4000 [==============================] - 0s 17us/sample - loss: 0.1126 - accuracy: 0.9505 - val_loss: 0.0914 - val_accuracy: 0.9660\n",
      "Epoch 152/200\n",
      "4000/4000 [==============================] - 0s 16us/sample - loss: 0.1134 - accuracy: 0.9498 - val_loss: 0.0908 - val_accuracy: 0.9670\n",
      "Epoch 153/200\n",
      "4000/4000 [==============================] - ETA: 0s - loss: 0.1110 - accuracy: 0.94 - 0s 17us/sample - loss: 0.1131 - accuracy: 0.9485 - val_loss: 0.0902 - val_accuracy: 0.9650\n",
      "Epoch 154/200\n",
      "4000/4000 [==============================] - 0s 16us/sample - loss: 0.1134 - accuracy: 0.9498 - val_loss: 0.0897 - val_accuracy: 0.9670\n",
      "Epoch 155/200\n",
      "4000/4000 [==============================] - 0s 17us/sample - loss: 0.1127 - accuracy: 0.9492 - val_loss: 0.0893 - val_accuracy: 0.9670\n",
      "Epoch 156/200\n",
      "4000/4000 [==============================] - 0s 16us/sample - loss: 0.1131 - accuracy: 0.9488 - val_loss: 0.0893 - val_accuracy: 0.9680\n",
      "Epoch 157/200\n",
      "4000/4000 [==============================] - 0s 16us/sample - loss: 0.1130 - accuracy: 0.9490 - val_loss: 0.0897 - val_accuracy: 0.9670\n",
      "Epoch 158/200\n",
      "4000/4000 [==============================] - 0s 16us/sample - loss: 0.1128 - accuracy: 0.9507 - val_loss: 0.0896 - val_accuracy: 0.9660\n",
      "Epoch 159/200\n",
      "4000/4000 [==============================] - 0s 18us/sample - loss: 0.1128 - accuracy: 0.9503 - val_loss: 0.0895 - val_accuracy: 0.9670\n",
      "Epoch 160/200\n",
      "4000/4000 [==============================] - 0s 16us/sample - loss: 0.1129 - accuracy: 0.9482 - val_loss: 0.0896 - val_accuracy: 0.9680\n",
      "Epoch 161/200\n",
      "4000/4000 [==============================] - 0s 16us/sample - loss: 0.1128 - accuracy: 0.9490 - val_loss: 0.0901 - val_accuracy: 0.9650\n",
      "Epoch 162/200\n",
      "4000/4000 [==============================] - 0s 16us/sample - loss: 0.1130 - accuracy: 0.9500 - val_loss: 0.0894 - val_accuracy: 0.9670\n",
      "Epoch 163/200\n",
      "4000/4000 [==============================] - 0s 16us/sample - loss: 0.1131 - accuracy: 0.9498 - val_loss: 0.0902 - val_accuracy: 0.9650\n",
      "Epoch 164/200\n",
      "4000/4000 [==============================] - 0s 16us/sample - loss: 0.1128 - accuracy: 0.9490 - val_loss: 0.0896 - val_accuracy: 0.9670\n",
      "Epoch 165/200\n",
      "4000/4000 [==============================] - 0s 17us/sample - loss: 0.1128 - accuracy: 0.9498 - val_loss: 0.0897 - val_accuracy: 0.9660\n",
      "Epoch 166/200\n",
      "4000/4000 [==============================] - 0s 17us/sample - loss: 0.1129 - accuracy: 0.9505 - val_loss: 0.0895 - val_accuracy: 0.9670\n",
      "Epoch 167/200\n",
      "4000/4000 [==============================] - 0s 18us/sample - loss: 0.1125 - accuracy: 0.9490 - val_loss: 0.0905 - val_accuracy: 0.9650\n",
      "Epoch 168/200\n",
      "4000/4000 [==============================] - 0s 20us/sample - loss: 0.1135 - accuracy: 0.9505 - val_loss: 0.0894 - val_accuracy: 0.9670\n",
      "Epoch 169/200\n",
      "4000/4000 [==============================] - 0s 20us/sample - loss: 0.1134 - accuracy: 0.9477 - val_loss: 0.0895 - val_accuracy: 0.9670\n",
      "Epoch 170/200\n",
      "4000/4000 [==============================] - 0s 20us/sample - loss: 0.1129 - accuracy: 0.9485 - val_loss: 0.0897 - val_accuracy: 0.9670\n",
      "Epoch 171/200\n",
      "4000/4000 [==============================] - 0s 19us/sample - loss: 0.1129 - accuracy: 0.9500 - val_loss: 0.0895 - val_accuracy: 0.9670\n",
      "Epoch 172/200\n",
      "4000/4000 [==============================] - 0s 20us/sample - loss: 0.1130 - accuracy: 0.9500 - val_loss: 0.0896 - val_accuracy: 0.9670\n",
      "Epoch 173/200\n",
      "4000/4000 [==============================] - 0s 20us/sample - loss: 0.1127 - accuracy: 0.9495 - val_loss: 0.0892 - val_accuracy: 0.9680\n",
      "Epoch 174/200\n",
      "4000/4000 [==============================] - 0s 19us/sample - loss: 0.1129 - accuracy: 0.9500 - val_loss: 0.0894 - val_accuracy: 0.9670\n",
      "Epoch 175/200\n",
      "4000/4000 [==============================] - 0s 19us/sample - loss: 0.1130 - accuracy: 0.9495 - val_loss: 0.0903 - val_accuracy: 0.9650\n",
      "Epoch 176/200\n",
      "4000/4000 [==============================] - 0s 15us/sample - loss: 0.1130 - accuracy: 0.9482 - val_loss: 0.0899 - val_accuracy: 0.9650\n",
      "Epoch 177/200\n",
      "4000/4000 [==============================] - 0s 16us/sample - loss: 0.1127 - accuracy: 0.9498 - val_loss: 0.0894 - val_accuracy: 0.9680\n",
      "Epoch 178/200\n",
      "4000/4000 [==============================] - 0s 16us/sample - loss: 0.1129 - accuracy: 0.9492 - val_loss: 0.0896 - val_accuracy: 0.9670\n",
      "Epoch 179/200\n",
      "4000/4000 [==============================] - 0s 15us/sample - loss: 0.1128 - accuracy: 0.9482 - val_loss: 0.0910 - val_accuracy: 0.9660\n",
      "Epoch 180/200\n",
      "4000/4000 [==============================] - 0s 16us/sample - loss: 0.1132 - accuracy: 0.9500 - val_loss: 0.0898 - val_accuracy: 0.9650\n",
      "Epoch 181/200\n",
      "4000/4000 [==============================] - 0s 15us/sample - loss: 0.1129 - accuracy: 0.9495 - val_loss: 0.0895 - val_accuracy: 0.9660\n",
      "Epoch 182/200\n",
      "4000/4000 [==============================] - 0s 16us/sample - loss: 0.1133 - accuracy: 0.9495 - val_loss: 0.0903 - val_accuracy: 0.9660\n",
      "Epoch 183/200\n",
      "4000/4000 [==============================] - 0s 17us/sample - loss: 0.1128 - accuracy: 0.9500 - val_loss: 0.0894 - val_accuracy: 0.9670\n",
      "Epoch 184/200\n",
      "4000/4000 [==============================] - 0s 17us/sample - loss: 0.1132 - accuracy: 0.9485 - val_loss: 0.0892 - val_accuracy: 0.9660\n",
      "Epoch 185/200\n",
      "4000/4000 [==============================] - 0s 16us/sample - loss: 0.1128 - accuracy: 0.9498 - val_loss: 0.0895 - val_accuracy: 0.9670\n",
      "Epoch 186/200\n",
      "4000/4000 [==============================] - 0s 16us/sample - loss: 0.1132 - accuracy: 0.9480 - val_loss: 0.0904 - val_accuracy: 0.9650\n",
      "Epoch 187/200\n",
      "4000/4000 [==============================] - 0s 17us/sample - loss: 0.1128 - accuracy: 0.9485 - val_loss: 0.0895 - val_accuracy: 0.9680\n",
      "Epoch 188/200\n",
      "4000/4000 [==============================] - 0s 17us/sample - loss: 0.1130 - accuracy: 0.9503 - val_loss: 0.0897 - val_accuracy: 0.9660\n",
      "Epoch 189/200\n",
      "4000/4000 [==============================] - 0s 17us/sample - loss: 0.1128 - accuracy: 0.9495 - val_loss: 0.0892 - val_accuracy: 0.9670\n",
      "Epoch 190/200\n",
      "4000/4000 [==============================] - 0s 17us/sample - loss: 0.1126 - accuracy: 0.9490 - val_loss: 0.0893 - val_accuracy: 0.9660\n",
      "Epoch 191/200\n",
      "4000/4000 [==============================] - 0s 17us/sample - loss: 0.1133 - accuracy: 0.9507 - val_loss: 0.0899 - val_accuracy: 0.9660\n",
      "Epoch 192/200\n",
      "4000/4000 [==============================] - 0s 17us/sample - loss: 0.1130 - accuracy: 0.9498 - val_loss: 0.0894 - val_accuracy: 0.9670\n",
      "Epoch 193/200\n",
      "4000/4000 [==============================] - 0s 16us/sample - loss: 0.1129 - accuracy: 0.9505 - val_loss: 0.0895 - val_accuracy: 0.9670\n",
      "Epoch 194/200\n",
      "4000/4000 [==============================] - 0s 16us/sample - loss: 0.1129 - accuracy: 0.9492 - val_loss: 0.0910 - val_accuracy: 0.9670\n",
      "Epoch 195/200\n",
      "4000/4000 [==============================] - 0s 16us/sample - loss: 0.1131 - accuracy: 0.9480 - val_loss: 0.0898 - val_accuracy: 0.9660\n",
      "Epoch 196/200\n",
      "4000/4000 [==============================] - 0s 17us/sample - loss: 0.1139 - accuracy: 0.9485 - val_loss: 0.0893 - val_accuracy: 0.9680\n",
      "Epoch 197/200\n",
      "4000/4000 [==============================] - 0s 16us/sample - loss: 0.1139 - accuracy: 0.9510 - val_loss: 0.0897 - val_accuracy: 0.9670\n",
      "Epoch 198/200\n",
      "4000/4000 [==============================] - 0s 16us/sample - loss: 0.1128 - accuracy: 0.9482 - val_loss: 0.0897 - val_accuracy: 0.9660\n",
      "Epoch 199/200\n",
      "4000/4000 [==============================] - 0s 16us/sample - loss: 0.1128 - accuracy: 0.9485 - val_loss: 0.0894 - val_accuracy: 0.9660\n",
      "Epoch 200/200\n",
      "4000/4000 [==============================] - 0s 17us/sample - loss: 0.1130 - accuracy: 0.9492 - val_loss: 0.0900 - val_accuracy: 0.9660\n"
     ]
    },
    {
     "data": {
      "text/plain": [
       "<tensorflow.python.keras.callbacks.History at 0x7f47fefbc588>"
      ]
     },
     "execution_count": 82,
     "metadata": {},
     "output_type": "execute_result"
    }
   ],
   "source": [
    "model.fit(x, y, epochs=200,validation_split=0.2, batch_size=50)"
   ]
  },
  {
   "cell_type": "code",
   "execution_count": 83,
   "metadata": {},
   "outputs": [
    {
     "data": {
      "text/plain": [
       "[array([[3.7255206],\n",
       "        [1.1401794],\n",
       "        [4.4363427]], dtype=float32),\n",
       " array([-4.794169], dtype=float32)]"
      ]
     },
     "execution_count": 83,
     "metadata": {},
     "output_type": "execute_result"
    }
   ],
   "source": [
    "model.get_weights()"
   ]
  },
  {
   "cell_type": "code",
   "execution_count": 84,
   "metadata": {},
   "outputs": [],
   "source": [
    "import matplotlib.pyplot as plt"
   ]
  },
  {
   "cell_type": "code",
   "execution_count": 85,
   "metadata": {},
   "outputs": [
    {
     "data": {
      "text/plain": [
       "121"
      ]
     },
     "execution_count": 85,
     "metadata": {},
     "output_type": "execute_result"
    }
   ],
   "source": [
    "np.argmin(model.history.history['val_loss'])"
   ]
  },
  {
   "cell_type": "code",
   "execution_count": 86,
   "metadata": {},
   "outputs": [
    {
     "data": {
      "text/plain": [
       "[<matplotlib.lines.Line2D at 0x7f47fee2bc88>]"
      ]
     },
     "execution_count": 86,
     "metadata": {},
     "output_type": "execute_result"
    },
    {
     "data": {
      "image/png": "[encoded data removed]",
      "text/plain": [
       "<Figure size 432x288 with 1 Axes>"
      ]
     },
     "metadata": {
      "needs_background": "light"
     },
     "output_type": "display_data"
    }
   ],
   "source": [
    "plt.plot(model.history.history['val_loss'][50:100])"
   ]
  },
  {
   "cell_type": "markdown",
   "metadata": {},
   "source": [
    "### Final Neural Network"
   ]
  },
  {
   "cell_type": "code",
   "execution_count": 91,
   "metadata": {},
   "outputs": [
    {
     "data": {
      "text/plain": [
       "<tensorflow.python.keras.callbacks.History at 0x7f47fec48a20>"
      ]
     },
     "execution_count": 91,
     "metadata": {},
     "output_type": "execute_result"
    }
   ],
   "source": [
    "model = tf.keras.Sequential() # start a sequential neuron\n",
    "model.add(layers.Dense(1, input_shape=(3,),use_bias=True, activation='sigmoid'))\n",
    "\n",
    "model.compile(optimizer=tf.keras.optimizers.Adam(0.01),\n",
    "              loss='binary_crossentropy', metrics=['accuracy']) # define loss function and optimization methods\n",
    "model.fit(x, y, epochs=121, batch_size=50, verbose=0)"
   ]
  },
  {
   "cell_type": "code",
   "execution_count": 92,
   "metadata": {},
   "outputs": [
    {
     "data": {
      "text/plain": [
       "[array([[3.8090272],\n",
       "        [1.2449797],\n",
       "        [4.51939  ]], dtype=float32),\n",
       " array([-4.9395146], dtype=float32)]"
      ]
     },
     "execution_count": 92,
     "metadata": {},
     "output_type": "execute_result"
    }
   ],
   "source": [
    "model.get_weights()"
   ]
  },
  {
   "cell_type": "markdown",
   "metadata": {},
   "source": [
    "## Fashion MNIST classification model"
   ]
  },
  {
   "cell_type": "code",
   "execution_count": 93,
   "metadata": {},
   "outputs": [],
   "source": [
    "from tensorflow import keras\n",
    "fashion_mnist = keras.datasets.fashion_mnist"
   ]
  },
  {
   "cell_type": "markdown",
   "metadata": {},
   "source": [
    "**** Notes ****\n",
    "\n",
    "In Mac Run the following command first if you encounter security warning\n",
    "\n",
    "```open /Applications/Python\\ 3.7/Install\\ Certificates.command```\n",
    "\n",
    "Example URL: https://www.tensorflow.org/tutorials/keras/classification"
   ]
  },
  {
   "cell_type": "code",
   "execution_count": 94,
   "metadata": {},
   "outputs": [
    {
     "name": "stdout",
     "output_type": "stream",
     "text": [
      "Downloading data from https://storage.googleapis.com/tensorflow/tf-keras-datasets/train-labels-idx1-ubyte.gz\n",
      "32768/29515 [=================================] - 0s 1us/step\n",
      "Downloading data from https://storage.googleapis.com/tensorflow/tf-keras-datasets/train-images-idx3-ubyte.gz\n",
      "26427392/26421880 [==============================] - 3s 0us/step\n",
      "Downloading data from https://storage.googleapis.com/tensorflow/tf-keras-datasets/t10k-labels-idx1-ubyte.gz\n",
      "8192/5148 [===============================================] - 0s 0us/step\n",
      "Downloading data from https://storage.googleapis.com/tensorflow/tf-keras-datasets/t10k-images-idx3-ubyte.gz\n",
      "4423680/4422102 [==============================] - 1s 0us/step\n"
     ]
    }
   ],
   "source": [
    "fashion_mnist = keras.datasets.fashion_mnist\n",
    "\n",
    "(train_images, train_labels), (test_images, test_labels) = fashion_mnist.load_data()"
   ]
  },
  {
   "cell_type": "code",
   "execution_count": 95,
   "metadata": {},
   "outputs": [
    {
     "data": {
      "text/plain": [
       "(60000, 28, 28)"
      ]
     },
     "execution_count": 95,
     "metadata": {},
     "output_type": "execute_result"
    }
   ],
   "source": [
    "train_images.shape"
   ]
  },
  {
   "cell_type": "code",
   "execution_count": 138,
   "metadata": {},
   "outputs": [
    {
     "data": {
      "text/plain": [
       "(28, 28)"
      ]
     },
     "execution_count": 138,
     "metadata": {},
     "output_type": "execute_result"
    }
   ],
   "source": [
    "train_images[0].shape"
   ]
  },
  {
   "cell_type": "code",
   "execution_count": 96,
   "metadata": {},
   "outputs": [
    {
     "data": {
      "text/plain": [
       "array([0, 1, 2, 3, 4, 5, 6, 7, 8, 9], dtype=uint8)"
      ]
     },
     "execution_count": 96,
     "metadata": {},
     "output_type": "execute_result"
    }
   ],
   "source": [
    "np.unique(train_labels)"
   ]
  },
  {
   "cell_type": "code",
   "execution_count": 99,
   "metadata": {},
   "outputs": [
    {
     "data": {
      "image/png": "[encoded data removed]",
      "text/plain": [
       "<Figure size 432x288 with 2 Axes>"
      ]
     },
     "metadata": {
      "needs_background": "light"
     },
     "output_type": "display_data"
    }
   ],
   "source": [
    "import numpy as np\n",
    "import matplotlib.pyplot as plt\n",
    "plt.figure()\n",
    "plt.imshow(train_images[32])\n",
    "plt.colorbar()\n",
    "plt.grid(False)\n",
    "plt.show()"
   ]
  },
  {
   "cell_type": "code",
   "execution_count": 100,
   "metadata": {},
   "outputs": [],
   "source": [
    "model = keras.Sequential([\n",
    "    keras.layers.Flatten(input_shape=(28, 28)), #input layer\n",
    "    keras.layers.Dense(128, activation='relu'), #hidden layer\n",
    "    keras.layers.Dense(10, activation='softmax') #Output layer\n",
    "])\n",
    "\n",
    "model.compile(optimizer='adam',\n",
    "              loss='sparse_categorical_crossentropy',\n",
    "              metrics=['accuracy'])"
   ]
  },
  {
   "cell_type": "code",
   "execution_count": 102,
   "metadata": {},
   "outputs": [
    {
     "name": "stdout",
     "output_type": "stream",
     "text": [
      "Train on 48000 samples, validate on 12000 samples\n",
      "Epoch 1/10\n",
      "48000/48000 [==============================] - 4s 92us/sample - loss: 2.7326 - accuracy: 0.6455 - val_loss: 0.9136 - val_accuracy: 0.6596\n",
      "Epoch 2/10\n",
      "48000/48000 [==============================] - 5s 96us/sample - loss: 0.7806 - accuracy: 0.7221 - val_loss: 0.7340 - val_accuracy: 0.7423\n",
      "Epoch 3/10\n",
      "48000/48000 [==============================] - 5s 102us/sample - loss: 0.7034 - accuracy: 0.7595 - val_loss: 0.6055 - val_accuracy: 0.7950\n",
      "Epoch 4/10\n",
      "48000/48000 [==============================] - 5s 95us/sample - loss: 0.6680 - accuracy: 0.7724 - val_loss: 0.6892 - val_accuracy: 0.7699\n",
      "Epoch 5/10\n",
      "48000/48000 [==============================] - 4s 90us/sample - loss: 0.6544 - accuracy: 0.7806 - val_loss: 0.6278 - val_accuracy: 0.7774\n",
      "Epoch 6/10\n",
      "48000/48000 [==============================] - 5s 98us/sample - loss: 0.6405 - accuracy: 0.7839 - val_loss: 0.6575 - val_accuracy: 0.7990\n",
      "Epoch 7/10\n",
      "48000/48000 [==============================] - 5s 97us/sample - loss: 0.6412 - accuracy: 0.7863 - val_loss: 0.7616 - val_accuracy: 0.7628\n",
      "Epoch 8/10\n",
      "48000/48000 [==============================] - 4s 90us/sample - loss: 0.6554 - accuracy: 0.7811 - val_loss: 0.6968 - val_accuracy: 0.7573\n",
      "Epoch 9/10\n",
      "48000/48000 [==============================] - 5s 95us/sample - loss: 0.6548 - accuracy: 0.7770 - val_loss: 0.6956 - val_accuracy: 0.7452\n",
      "Epoch 10/10\n",
      "48000/48000 [==============================] - 5s 95us/sample - loss: 0.6310 - accuracy: 0.7892 - val_loss: 0.9210 - val_accuracy: 0.7072\n"
     ]
    },
    {
     "data": {
      "text/plain": [
       "<tensorflow.python.keras.callbacks.History at 0x7f47fc104f98>"
      ]
     },
     "execution_count": 102,
     "metadata": {},
     "output_type": "execute_result"
    }
   ],
   "source": [
    "model.fit(train_images, train_labels, epochs=10,validation_split=0.2, batch_size=10)"
   ]
  },
  {
   "cell_type": "code",
   "execution_count": 112,
   "metadata": {},
   "outputs": [
    {
     "data": {
      "text/plain": [
       "2"
      ]
     },
     "execution_count": 112,
     "metadata": {},
     "output_type": "execute_result"
    }
   ],
   "source": [
    "np.argmin(model.history.history['val_loss'])"
   ]
  },
  {
   "cell_type": "code",
   "execution_count": 113,
   "metadata": {},
   "outputs": [
    {
     "name": "stdout",
     "output_type": "stream",
     "text": [
      "Train on 48000 samples, validate on 12000 samples\n",
      "Epoch 1/2\n",
      "48000/48000 [==============================] - 4s 91us/sample - loss: 2.7935 - accuracy: 0.6475 - val_loss: 0.8443 - val_accuracy: 0.6786\n",
      "Epoch 2/2\n",
      "48000/48000 [==============================] - 4s 92us/sample - loss: 0.7882 - accuracy: 0.7045 - val_loss: 0.6762 - val_accuracy: 0.7360\n"
     ]
    },
    {
     "data": {
      "text/plain": [
       "<tensorflow.python.keras.callbacks.History at 0x7f481c0814e0>"
      ]
     },
     "execution_count": 113,
     "metadata": {},
     "output_type": "execute_result"
    }
   ],
   "source": [
    "model = keras.Sequential([\n",
    "    keras.layers.Flatten(input_shape=(28, 28)), #input layer\n",
    "    keras.layers.Dense(128, activation='relu'), #hidden layer\n",
    "    keras.layers.Dense(10, activation='softmax') #Output layer\n",
    "])\n",
    "\n",
    "model.compile(optimizer='adam',\n",
    "              loss='sparse_categorical_crossentropy',\n",
    "              metrics=['accuracy'])\n",
    "model.fit(train_images, train_labels, epochs=2,validation_split=0.2, batch_size=10)"
   ]
  },
  {
   "cell_type": "code",
   "execution_count": 119,
   "metadata": {},
   "outputs": [
    {
     "data": {
      "image/png": "[encoded data removed]",
      "text/plain": [
       "<Figure size 432x288 with 2 Axes>"
      ]
     },
     "metadata": {
      "needs_background": "light"
     },
     "output_type": "display_data"
    }
   ],
   "source": [
    "plt.figure()\n",
    "plt.imshow(test_images[2])\n",
    "plt.colorbar()\n",
    "plt.grid(False)\n",
    "plt.show()"
   ]
  },
  {
   "cell_type": "code",
   "execution_count": 124,
   "metadata": {},
   "outputs": [],
   "source": [
    "selectimageid=2"
   ]
  },
  {
   "cell_type": "code",
   "execution_count": 130,
   "metadata": {},
   "outputs": [
    {
     "name": "stdout",
     "output_type": "stream",
     "text": [
      "1/1 - 0s - loss: 0.0000e+00 - accuracy: 1.0000\n"
     ]
    },
    {
     "data": {
      "text/plain": [
       "[0.0, 1.0]"
      ]
     },
     "execution_count": 130,
     "metadata": {},
     "output_type": "execute_result"
    }
   ],
   "source": [
    "model.evaluate(test_images[selectimageid:(selectimageid+1)], test_labels[selectimageid:(selectimageid+1)], verbose=2)"
   ]
  },
  {
   "cell_type": "code",
   "execution_count": 131,
   "metadata": {},
   "outputs": [
    {
     "data": {
      "text/plain": [
       "array([1], dtype=uint8)"
      ]
     },
     "execution_count": 131,
     "metadata": {},
     "output_type": "execute_result"
    }
   ],
   "source": [
    "test_labels[selectimageid:(selectimageid+1)] #Ground Truth"
   ]
  },
  {
   "cell_type": "code",
   "execution_count": 132,
   "metadata": {},
   "outputs": [
    {
     "data": {
      "text/plain": [
       "1"
      ]
     },
     "execution_count": 132,
     "metadata": {},
     "output_type": "execute_result"
    }
   ],
   "source": [
    "np.argmax(model.predict(test_images[selectimageid:(selectimageid+1)]))"
   ]
  },
  {
   "cell_type": "code",
   "execution_count": 129,
   "metadata": {},
   "outputs": [
    {
     "data": {
      "text/plain": [
       "array([[2.7519991e-18, 1.0000000e+00, 8.7743349e-19, 3.3419803e-12,\n",
       "        0.0000000e+00, 0.0000000e+00, 2.6495455e-15, 0.0000000e+00,\n",
       "        2.3309665e-15, 2.6120820e-38]], dtype=float32)"
      ]
     },
     "execution_count": 129,
     "metadata": {},
     "output_type": "execute_result"
    }
   ],
   "source": [
    "model.predict(test_images[selectimageid:(selectimageid+1)])"
   ]
  },
  {
   "cell_type": "code",
   "execution_count": null,
   "metadata": {},
   "outputs": [],
   "source": []
  }
 ],
 "metadata": {
  "kernelspec": {
   "display_name": "Python 3 (ipykernel)",
   "language": "python",
   "name": "python3"
  },
  "language_info": {
   "codemirror_mode": {
    "name": "ipython",
    "version": 3
   },
   "file_extension": ".py",
   "mimetype": "text/x-python",
   "name": "python",
   "nbconvert_exporter": "python",
   "pygments_lexer": "ipython3",
   "version": "3.8.3"
  }
 },
 "nbformat": 4,
 "nbformat_minor": 2
}
