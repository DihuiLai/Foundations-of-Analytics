{
 "cells": [
  {
   "cell_type": "markdown",
   "metadata": {},
   "source": [
    "## Lecture 07 - Neural Network, Tensorflow, Single Neuron, Multi-layer Neural Network"
   ]
  },
  {
   "cell_type": "markdown",
   "metadata": {},
   "source": [
    "## Install tensorflow\n",
    "```pip install --upgrade pip```\n",
    "\n",
    "```pip install tensorflow```"
   ]
  },
  {
   "cell_type": "code",
   "execution_count": 10,
   "metadata": {},
   "outputs": [],
   "source": [
    "import numpy as np\n",
    "import pandas as pd\n",
    "import tensorflow as tf\n",
    "from tensorflow.keras import layers\n",
    "from sklearn.metrics import roc_auc_score, accuracy_score"
   ]
  },
  {
   "cell_type": "code",
   "execution_count": 11,
   "metadata": {},
   "outputs": [],
   "source": [
    "logData=pd.read_csv(\"./Data/logistic_regression_optimization.csv\")"
   ]
  },
  {
   "cell_type": "code",
   "execution_count": 14,
   "metadata": {},
   "outputs": [],
   "source": [
    "x = logData.iloc[:, 0:-1].values\n",
    "y = logData.iloc[:, -1:].values"
   ]
  },
  {
   "cell_type": "code",
   "execution_count": 20,
   "metadata": {},
   "outputs": [],
   "source": [
    "from sklearn.linear_model import LogisticRegression"
   ]
  },
  {
   "cell_type": "code",
   "execution_count": 21,
   "metadata": {},
   "outputs": [
    {
     "name": "stdout",
     "output_type": "stream",
     "text": [
      "[array([[3.83389295, 1.1991905 , 4.52605611]]), array([-4.92802048])]\n"
     ]
    },
    {
     "name": "stderr",
     "output_type": "stream",
     "text": [
      "/Users/dlai/Projects/Foundations_of_Analytics/venv/lib/python3.8/site-packages/sklearn/utils/validation.py:72: DataConversionWarning: A column-vector y was passed when a 1d array was expected. Please change the shape of y to (n_samples, ), for example using ravel().\n",
      "  return f(**kwargs)\n"
     ]
    }
   ],
   "source": [
    "clf = LogisticRegression(penalty='none', solver='lbfgs').fit(x, y)#Build a Logistic Regression Model\n",
    "print([clf.coef_, clf.intercept_])"
   ]
  },
  {
   "cell_type": "markdown",
   "metadata": {},
   "source": [
    "## Logistic regression with a single neuron Neural Network"
   ]
  },
  {
   "cell_type": "markdown",
   "metadata": {},
   "source": [
    "### Create a nerual network of 1 neuron an 3 inputs  $x_1, x_2, x_3$ and that output $a$\n",
    "i.e.\n",
    "### $p=a=\\frac{1}{1+exp\\left(-(w_0+w_1 x_1+w_2 x_2+w_3 x_3)\\right)}$\n",
    "\n",
    "Loss function: binary_crossentropy which is\n",
    "\n",
    "### $L=-\\sum\\limits_{i=1}^{N}(y^ilog(a^i)+(1-y^i)log(1-a^i))$\n",
    "which is equivalent to binomial likelihood function except for a negative sign\n"
   ]
  },
  {
   "cell_type": "code",
   "execution_count": 22,
   "metadata": {},
   "outputs": [],
   "source": [
    "model = tf.keras.Sequential() # start a sequential neuron\n",
    "model.add(layers.Dense(1, input_shape=(3,),use_bias=True, activation='sigmoid'))\n",
    "\n",
    "model.compile(optimizer=tf.keras.optimizers.Adam(0.01),\n",
    "              loss='binary_crossentropy', metrics=['accuracy']) # define loss function and optimization methods"
   ]
  },
  {
   "cell_type": "code",
   "execution_count": 23,
   "metadata": {},
   "outputs": [
    {
     "data": {
      "text/plain": [
       "[array([[ 0.57813585],\n",
       "        [-0.8589465 ],\n",
       "        [-0.80017877]], dtype=float32),\n",
       " array([0.], dtype=float32)]"
      ]
     },
     "execution_count": 23,
     "metadata": {},
     "output_type": "execute_result"
    }
   ],
   "source": [
    "model.get_weights() #initial weights"
   ]
  },
  {
   "cell_type": "code",
   "execution_count": 24,
   "metadata": {},
   "outputs": [
    {
     "data": {
      "text/plain": [
       "0.2975594985190892"
      ]
     },
     "execution_count": 24,
     "metadata": {},
     "output_type": "execute_result"
    }
   ],
   "source": [
    "testinput=np.array([0, 1, 0])\n",
    "1/(1+np.exp(-np.dot(model.get_weights()[0].reshape(-1),testinput))) #logistic function"
   ]
  },
  {
   "cell_type": "code",
   "execution_count": 25,
   "metadata": {},
   "outputs": [
    {
     "data": {
      "text/plain": [
       "array([[0.2975595]], dtype=float32)"
      ]
     },
     "execution_count": 25,
     "metadata": {},
     "output_type": "execute_result"
    }
   ],
   "source": [
    "np.array(model(np.array([[0, 1, 0]])))"
   ]
  },
  {
   "cell_type": "code",
   "execution_count": 26,
   "metadata": {},
   "outputs": [
    {
     "name": "stdout",
     "output_type": "stream",
     "text": [
      "Epoch 1/200\n",
      "80/80 [==============================] - 0s 3ms/step - loss: 1.4724 - accuracy: 0.5067 - val_loss: 0.6176 - val_accuracy: 0.6870\n",
      "Epoch 2/200\n",
      "80/80 [==============================] - 0s 2ms/step - loss: 0.3874 - accuracy: 0.8328 - val_loss: 0.2683 - val_accuracy: 0.9240\n",
      "Epoch 3/200\n",
      "80/80 [==============================] - 0s 2ms/step - loss: 0.2487 - accuracy: 0.9285 - val_loss: 0.2121 - val_accuracy: 0.9550\n",
      "Epoch 4/200\n",
      "80/80 [==============================] - 0s 2ms/step - loss: 0.2086 - accuracy: 0.9398 - val_loss: 0.1827 - val_accuracy: 0.9610\n",
      "Epoch 5/200\n",
      "80/80 [==============================] - 0s 2ms/step - loss: 0.1855 - accuracy: 0.9470 - val_loss: 0.1645 - val_accuracy: 0.9660\n",
      "Epoch 6/200\n",
      "80/80 [==============================] - 0s 2ms/step - loss: 0.1706 - accuracy: 0.9465 - val_loss: 0.1514 - val_accuracy: 0.9660\n",
      "Epoch 7/200\n",
      "80/80 [==============================] - 0s 3ms/step - loss: 0.1597 - accuracy: 0.9473 - val_loss: 0.1420 - val_accuracy: 0.9670\n",
      "Epoch 8/200\n",
      "80/80 [==============================] - 0s 5ms/step - loss: 0.1520 - accuracy: 0.9495 - val_loss: 0.1346 - val_accuracy: 0.9670\n",
      "Epoch 9/200\n",
      "80/80 [==============================] - 0s 3ms/step - loss: 0.1458 - accuracy: 0.9500 - val_loss: 0.1288 - val_accuracy: 0.9670\n",
      "Epoch 10/200\n",
      "80/80 [==============================] - 0s 3ms/step - loss: 0.1409 - accuracy: 0.9488 - val_loss: 0.1238 - val_accuracy: 0.9680\n",
      "Epoch 11/200\n",
      "80/80 [==============================] - 0s 2ms/step - loss: 0.1368 - accuracy: 0.9485 - val_loss: 0.1198 - val_accuracy: 0.9680\n",
      "Epoch 12/200\n",
      "80/80 [==============================] - 0s 3ms/step - loss: 0.1335 - accuracy: 0.9492 - val_loss: 0.1166 - val_accuracy: 0.9680\n",
      "Epoch 13/200\n",
      "80/80 [==============================] - 0s 2ms/step - loss: 0.1308 - accuracy: 0.9498 - val_loss: 0.1137 - val_accuracy: 0.9690\n",
      "Epoch 14/200\n",
      "80/80 [==============================] - 0s 2ms/step - loss: 0.1287 - accuracy: 0.9492 - val_loss: 0.1110 - val_accuracy: 0.9690\n",
      "Epoch 15/200\n",
      "80/80 [==============================] - 0s 4ms/step - loss: 0.1266 - accuracy: 0.9495 - val_loss: 0.1090 - val_accuracy: 0.9690\n",
      "Epoch 16/200\n",
      "80/80 [==============================] - 0s 3ms/step - loss: 0.1249 - accuracy: 0.9495 - val_loss: 0.1073 - val_accuracy: 0.9690\n",
      "Epoch 17/200\n",
      "80/80 [==============================] - 0s 3ms/step - loss: 0.1236 - accuracy: 0.9498 - val_loss: 0.1053 - val_accuracy: 0.9680\n",
      "Epoch 18/200\n",
      "80/80 [==============================] - 0s 3ms/step - loss: 0.1222 - accuracy: 0.9505 - val_loss: 0.1042 - val_accuracy: 0.9680\n",
      "Epoch 19/200\n",
      "80/80 [==============================] - 0s 2ms/step - loss: 0.1213 - accuracy: 0.9492 - val_loss: 0.1029 - val_accuracy: 0.9680\n",
      "Epoch 20/200\n",
      "80/80 [==============================] - 0s 2ms/step - loss: 0.1204 - accuracy: 0.9498 - val_loss: 0.1017 - val_accuracy: 0.9680\n",
      "Epoch 21/200\n",
      "80/80 [==============================] - 0s 2ms/step - loss: 0.1194 - accuracy: 0.9503 - val_loss: 0.1008 - val_accuracy: 0.9680\n",
      "Epoch 22/200\n",
      "80/80 [==============================] - 0s 2ms/step - loss: 0.1187 - accuracy: 0.9495 - val_loss: 0.0999 - val_accuracy: 0.9680\n",
      "Epoch 23/200\n",
      "80/80 [==============================] - 0s 3ms/step - loss: 0.1180 - accuracy: 0.9498 - val_loss: 0.0988 - val_accuracy: 0.9680\n",
      "Epoch 24/200\n",
      "80/80 [==============================] - 0s 3ms/step - loss: 0.1175 - accuracy: 0.9492 - val_loss: 0.0980 - val_accuracy: 0.9670\n",
      "Epoch 25/200\n",
      "80/80 [==============================] - 0s 3ms/step - loss: 0.1168 - accuracy: 0.9495 - val_loss: 0.0976 - val_accuracy: 0.9680\n",
      "Epoch 26/200\n",
      "80/80 [==============================] - 0s 2ms/step - loss: 0.1169 - accuracy: 0.9488 - val_loss: 0.0970 - val_accuracy: 0.9680\n",
      "Epoch 27/200\n",
      "80/80 [==============================] - 0s 3ms/step - loss: 0.1164 - accuracy: 0.9495 - val_loss: 0.0966 - val_accuracy: 0.9680\n",
      "Epoch 28/200\n",
      "80/80 [==============================] - 0s 3ms/step - loss: 0.1159 - accuracy: 0.9488 - val_loss: 0.0963 - val_accuracy: 0.9670\n",
      "Epoch 29/200\n",
      "80/80 [==============================] - 0s 2ms/step - loss: 0.1155 - accuracy: 0.9505 - val_loss: 0.0956 - val_accuracy: 0.9660\n",
      "Epoch 30/200\n",
      "80/80 [==============================] - 0s 3ms/step - loss: 0.1150 - accuracy: 0.9507 - val_loss: 0.0952 - val_accuracy: 0.9670\n",
      "Epoch 31/200\n",
      "80/80 [==============================] - 0s 2ms/step - loss: 0.1149 - accuracy: 0.9498 - val_loss: 0.0946 - val_accuracy: 0.9670\n",
      "Epoch 32/200\n",
      "80/80 [==============================] - 0s 2ms/step - loss: 0.1146 - accuracy: 0.9503 - val_loss: 0.0942 - val_accuracy: 0.9680\n",
      "Epoch 33/200\n",
      "80/80 [==============================] - 0s 2ms/step - loss: 0.1145 - accuracy: 0.9495 - val_loss: 0.0937 - val_accuracy: 0.9680\n",
      "Epoch 34/200\n",
      "80/80 [==============================] - 0s 2ms/step - loss: 0.1144 - accuracy: 0.9490 - val_loss: 0.0935 - val_accuracy: 0.9670\n",
      "Epoch 35/200\n",
      "80/80 [==============================] - 0s 2ms/step - loss: 0.1144 - accuracy: 0.9500 - val_loss: 0.0937 - val_accuracy: 0.9660\n",
      "Epoch 36/200\n",
      "80/80 [==============================] - 0s 4ms/step - loss: 0.1139 - accuracy: 0.9503 - val_loss: 0.0931 - val_accuracy: 0.9670\n",
      "Epoch 37/200\n",
      "80/80 [==============================] - 0s 3ms/step - loss: 0.1141 - accuracy: 0.9500 - val_loss: 0.0926 - val_accuracy: 0.9680\n",
      "Epoch 38/200\n",
      "80/80 [==============================] - 0s 2ms/step - loss: 0.1137 - accuracy: 0.9492 - val_loss: 0.0928 - val_accuracy: 0.9670\n",
      "Epoch 39/200\n",
      "80/80 [==============================] - 0s 3ms/step - loss: 0.1140 - accuracy: 0.9490 - val_loss: 0.0928 - val_accuracy: 0.9660\n",
      "Epoch 40/200\n",
      "80/80 [==============================] - 0s 2ms/step - loss: 0.1136 - accuracy: 0.9490 - val_loss: 0.0928 - val_accuracy: 0.9660\n",
      "Epoch 41/200\n",
      "80/80 [==============================] - 0s 2ms/step - loss: 0.1137 - accuracy: 0.9503 - val_loss: 0.0929 - val_accuracy: 0.9660\n",
      "Epoch 42/200\n",
      "80/80 [==============================] - 0s 2ms/step - loss: 0.1137 - accuracy: 0.9500 - val_loss: 0.0921 - val_accuracy: 0.9670\n",
      "Epoch 43/200\n",
      "80/80 [==============================] - 0s 2ms/step - loss: 0.1136 - accuracy: 0.9498 - val_loss: 0.0918 - val_accuracy: 0.9660\n",
      "Epoch 44/200\n",
      "80/80 [==============================] - 0s 3ms/step - loss: 0.1134 - accuracy: 0.9498 - val_loss: 0.0916 - val_accuracy: 0.9670\n",
      "Epoch 45/200\n",
      "80/80 [==============================] - 0s 3ms/step - loss: 0.1133 - accuracy: 0.9498 - val_loss: 0.0915 - val_accuracy: 0.9680\n",
      "Epoch 46/200\n",
      "80/80 [==============================] - 0s 2ms/step - loss: 0.1133 - accuracy: 0.9492 - val_loss: 0.0913 - val_accuracy: 0.9670\n",
      "Epoch 47/200\n",
      "80/80 [==============================] - 0s 2ms/step - loss: 0.1131 - accuracy: 0.9498 - val_loss: 0.0913 - val_accuracy: 0.9660\n",
      "Epoch 48/200\n",
      "80/80 [==============================] - 0s 2ms/step - loss: 0.1132 - accuracy: 0.9498 - val_loss: 0.0929 - val_accuracy: 0.9660\n",
      "Epoch 49/200\n",
      "80/80 [==============================] - 0s 3ms/step - loss: 0.1132 - accuracy: 0.9492 - val_loss: 0.0907 - val_accuracy: 0.9670\n",
      "Epoch 50/200\n",
      "80/80 [==============================] - 0s 3ms/step - loss: 0.1133 - accuracy: 0.9503 - val_loss: 0.0908 - val_accuracy: 0.9670\n",
      "Epoch 51/200\n",
      "80/80 [==============================] - 0s 3ms/step - loss: 0.1134 - accuracy: 0.9492 - val_loss: 0.0908 - val_accuracy: 0.9660\n",
      "Epoch 52/200\n",
      "80/80 [==============================] - 0s 3ms/step - loss: 0.1130 - accuracy: 0.9495 - val_loss: 0.0908 - val_accuracy: 0.9670\n",
      "Epoch 53/200\n",
      "80/80 [==============================] - 0s 3ms/step - loss: 0.1129 - accuracy: 0.9485 - val_loss: 0.0911 - val_accuracy: 0.9660\n",
      "Epoch 54/200\n",
      "80/80 [==============================] - 0s 3ms/step - loss: 0.1129 - accuracy: 0.9492 - val_loss: 0.0909 - val_accuracy: 0.9670\n",
      "Epoch 55/200\n",
      "80/80 [==============================] - 0s 3ms/step - loss: 0.1131 - accuracy: 0.9503 - val_loss: 0.0918 - val_accuracy: 0.9650\n",
      "Epoch 56/200\n",
      "80/80 [==============================] - 0s 3ms/step - loss: 0.1130 - accuracy: 0.9500 - val_loss: 0.0908 - val_accuracy: 0.9670\n",
      "Epoch 57/200\n",
      "80/80 [==============================] - 0s 3ms/step - loss: 0.1131 - accuracy: 0.9492 - val_loss: 0.0909 - val_accuracy: 0.9670\n",
      "Epoch 58/200\n",
      "80/80 [==============================] - 0s 3ms/step - loss: 0.1129 - accuracy: 0.9498 - val_loss: 0.0912 - val_accuracy: 0.9660\n"
     ]
    },
    {
     "name": "stdout",
     "output_type": "stream",
     "text": [
      "Epoch 59/200\n",
      "80/80 [==============================] - 0s 2ms/step - loss: 0.1132 - accuracy: 0.9498 - val_loss: 0.0908 - val_accuracy: 0.9660\n",
      "Epoch 60/200\n",
      "80/80 [==============================] - 0s 2ms/step - loss: 0.1130 - accuracy: 0.9498 - val_loss: 0.0904 - val_accuracy: 0.9670\n",
      "Epoch 61/200\n",
      "80/80 [==============================] - 0s 2ms/step - loss: 0.1131 - accuracy: 0.9492 - val_loss: 0.0901 - val_accuracy: 0.9670\n",
      "Epoch 62/200\n",
      "80/80 [==============================] - 0s 2ms/step - loss: 0.1128 - accuracy: 0.9488 - val_loss: 0.0902 - val_accuracy: 0.9670\n",
      "Epoch 63/200\n",
      "80/80 [==============================] - 0s 2ms/step - loss: 0.1130 - accuracy: 0.9490 - val_loss: 0.0903 - val_accuracy: 0.9670\n",
      "Epoch 64/200\n",
      "80/80 [==============================] - 0s 2ms/step - loss: 0.1133 - accuracy: 0.9485 - val_loss: 0.0899 - val_accuracy: 0.9680\n",
      "Epoch 65/200\n",
      "80/80 [==============================] - 0s 2ms/step - loss: 0.1131 - accuracy: 0.9488 - val_loss: 0.0903 - val_accuracy: 0.9670\n",
      "Epoch 66/200\n",
      "80/80 [==============================] - 0s 2ms/step - loss: 0.1131 - accuracy: 0.9492 - val_loss: 0.0919 - val_accuracy: 0.9660\n",
      "Epoch 67/200\n",
      "80/80 [==============================] - 0s 2ms/step - loss: 0.1130 - accuracy: 0.9485 - val_loss: 0.0901 - val_accuracy: 0.9670\n",
      "Epoch 68/200\n",
      "80/80 [==============================] - 0s 2ms/step - loss: 0.1128 - accuracy: 0.9500 - val_loss: 0.0900 - val_accuracy: 0.9670\n",
      "Epoch 69/200\n",
      "80/80 [==============================] - 0s 2ms/step - loss: 0.1128 - accuracy: 0.9503 - val_loss: 0.0905 - val_accuracy: 0.9670\n",
      "Epoch 70/200\n",
      "80/80 [==============================] - 0s 2ms/step - loss: 0.1130 - accuracy: 0.9488 - val_loss: 0.0898 - val_accuracy: 0.9660\n",
      "Epoch 71/200\n",
      "80/80 [==============================] - 0s 2ms/step - loss: 0.1129 - accuracy: 0.9500 - val_loss: 0.0899 - val_accuracy: 0.9670\n",
      "Epoch 72/200\n",
      "80/80 [==============================] - 0s 2ms/step - loss: 0.1132 - accuracy: 0.9503 - val_loss: 0.0898 - val_accuracy: 0.9670\n",
      "Epoch 73/200\n",
      "80/80 [==============================] - 0s 2ms/step - loss: 0.1128 - accuracy: 0.9492 - val_loss: 0.0901 - val_accuracy: 0.9660\n",
      "Epoch 74/200\n",
      "80/80 [==============================] - 0s 2ms/step - loss: 0.1129 - accuracy: 0.9503 - val_loss: 0.0899 - val_accuracy: 0.9670\n",
      "Epoch 75/200\n",
      "80/80 [==============================] - 0s 2ms/step - loss: 0.1133 - accuracy: 0.9488 - val_loss: 0.0899 - val_accuracy: 0.9670\n",
      "Epoch 76/200\n",
      "80/80 [==============================] - 0s 2ms/step - loss: 0.1127 - accuracy: 0.9503 - val_loss: 0.0912 - val_accuracy: 0.9660\n",
      "Epoch 77/200\n",
      "80/80 [==============================] - 0s 2ms/step - loss: 0.1132 - accuracy: 0.9492 - val_loss: 0.0902 - val_accuracy: 0.9660\n",
      "Epoch 78/200\n",
      "80/80 [==============================] - 0s 2ms/step - loss: 0.1134 - accuracy: 0.9485 - val_loss: 0.0897 - val_accuracy: 0.9670\n",
      "Epoch 79/200\n",
      "80/80 [==============================] - 0s 2ms/step - loss: 0.1129 - accuracy: 0.9500 - val_loss: 0.0897 - val_accuracy: 0.9670\n",
      "Epoch 80/200\n",
      "80/80 [==============================] - 0s 2ms/step - loss: 0.1137 - accuracy: 0.9505 - val_loss: 0.0898 - val_accuracy: 0.9670\n",
      "Epoch 81/200\n",
      "80/80 [==============================] - 0s 2ms/step - loss: 0.1128 - accuracy: 0.9490 - val_loss: 0.0895 - val_accuracy: 0.9670\n",
      "Epoch 82/200\n",
      "80/80 [==============================] - 0s 2ms/step - loss: 0.1128 - accuracy: 0.9485 - val_loss: 0.0900 - val_accuracy: 0.9670\n",
      "Epoch 83/200\n",
      "80/80 [==============================] - 0s 2ms/step - loss: 0.1129 - accuracy: 0.9490 - val_loss: 0.0897 - val_accuracy: 0.9660\n",
      "Epoch 84/200\n",
      "80/80 [==============================] - 0s 2ms/step - loss: 0.1133 - accuracy: 0.9498 - val_loss: 0.0897 - val_accuracy: 0.9650\n",
      "Epoch 85/200\n",
      "80/80 [==============================] - 0s 2ms/step - loss: 0.1129 - accuracy: 0.9495 - val_loss: 0.0896 - val_accuracy: 0.9670\n",
      "Epoch 86/200\n",
      "80/80 [==============================] - 0s 2ms/step - loss: 0.1130 - accuracy: 0.9503 - val_loss: 0.0900 - val_accuracy: 0.9660\n",
      "Epoch 87/200\n",
      "80/80 [==============================] - 0s 2ms/step - loss: 0.1129 - accuracy: 0.9490 - val_loss: 0.0896 - val_accuracy: 0.9670\n",
      "Epoch 88/200\n",
      "80/80 [==============================] - 0s 2ms/step - loss: 0.1129 - accuracy: 0.9490 - val_loss: 0.0899 - val_accuracy: 0.9670\n",
      "Epoch 89/200\n",
      "80/80 [==============================] - 0s 2ms/step - loss: 0.1133 - accuracy: 0.9495 - val_loss: 0.0895 - val_accuracy: 0.9670\n",
      "Epoch 90/200\n",
      "80/80 [==============================] - 0s 2ms/step - loss: 0.1132 - accuracy: 0.9490 - val_loss: 0.0902 - val_accuracy: 0.9670\n",
      "Epoch 91/200\n",
      "80/80 [==============================] - 0s 2ms/step - loss: 0.1128 - accuracy: 0.9492 - val_loss: 0.0895 - val_accuracy: 0.9670\n",
      "Epoch 92/200\n",
      "80/80 [==============================] - 0s 2ms/step - loss: 0.1133 - accuracy: 0.9492 - val_loss: 0.0898 - val_accuracy: 0.9670\n",
      "Epoch 93/200\n",
      "80/80 [==============================] - 0s 2ms/step - loss: 0.1128 - accuracy: 0.9503 - val_loss: 0.0898 - val_accuracy: 0.9670\n",
      "Epoch 94/200\n",
      "80/80 [==============================] - 0s 2ms/step - loss: 0.1132 - accuracy: 0.9495 - val_loss: 0.0899 - val_accuracy: 0.9660\n",
      "Epoch 95/200\n",
      "80/80 [==============================] - 0s 2ms/step - loss: 0.1131 - accuracy: 0.9488 - val_loss: 0.0904 - val_accuracy: 0.9660\n",
      "Epoch 96/200\n",
      "80/80 [==============================] - 0s 2ms/step - loss: 0.1128 - accuracy: 0.9498 - val_loss: 0.0899 - val_accuracy: 0.9670\n",
      "Epoch 97/200\n",
      "80/80 [==============================] - 0s 2ms/step - loss: 0.1130 - accuracy: 0.9488 - val_loss: 0.0897 - val_accuracy: 0.9670\n",
      "Epoch 98/200\n",
      "80/80 [==============================] - 0s 2ms/step - loss: 0.1130 - accuracy: 0.9490 - val_loss: 0.0898 - val_accuracy: 0.9660\n",
      "Epoch 99/200\n",
      "80/80 [==============================] - 0s 2ms/step - loss: 0.1128 - accuracy: 0.9500 - val_loss: 0.0899 - val_accuracy: 0.9660\n",
      "Epoch 100/200\n",
      "80/80 [==============================] - 0s 2ms/step - loss: 0.1129 - accuracy: 0.9498 - val_loss: 0.0901 - val_accuracy: 0.9660\n",
      "Epoch 101/200\n",
      "80/80 [==============================] - 0s 2ms/step - loss: 0.1131 - accuracy: 0.9500 - val_loss: 0.0897 - val_accuracy: 0.9660\n",
      "Epoch 102/200\n",
      "80/80 [==============================] - 0s 2ms/step - loss: 0.1129 - accuracy: 0.9505 - val_loss: 0.0919 - val_accuracy: 0.9660\n",
      "Epoch 103/200\n",
      "80/80 [==============================] - 0s 2ms/step - loss: 0.1136 - accuracy: 0.9482 - val_loss: 0.0895 - val_accuracy: 0.9680\n",
      "Epoch 104/200\n",
      "80/80 [==============================] - 0s 2ms/step - loss: 0.1128 - accuracy: 0.9480 - val_loss: 0.0900 - val_accuracy: 0.9670\n",
      "Epoch 105/200\n",
      "80/80 [==============================] - 0s 2ms/step - loss: 0.1128 - accuracy: 0.9488 - val_loss: 0.0895 - val_accuracy: 0.9680\n",
      "Epoch 106/200\n",
      "80/80 [==============================] - 0s 2ms/step - loss: 0.1127 - accuracy: 0.9503 - val_loss: 0.0903 - val_accuracy: 0.9650\n",
      "Epoch 107/200\n",
      "80/80 [==============================] - 0s 2ms/step - loss: 0.1131 - accuracy: 0.9488 - val_loss: 0.0895 - val_accuracy: 0.9670\n",
      "Epoch 108/200\n",
      "80/80 [==============================] - 0s 2ms/step - loss: 0.1129 - accuracy: 0.9495 - val_loss: 0.0893 - val_accuracy: 0.9680\n",
      "Epoch 109/200\n",
      "80/80 [==============================] - 0s 2ms/step - loss: 0.1127 - accuracy: 0.9500 - val_loss: 0.0895 - val_accuracy: 0.9670\n",
      "Epoch 110/200\n",
      "80/80 [==============================] - 0s 2ms/step - loss: 0.1128 - accuracy: 0.9490 - val_loss: 0.0894 - val_accuracy: 0.9670\n",
      "Epoch 111/200\n",
      "80/80 [==============================] - 0s 2ms/step - loss: 0.1132 - accuracy: 0.9498 - val_loss: 0.0917 - val_accuracy: 0.9660\n",
      "Epoch 112/200\n",
      "80/80 [==============================] - 0s 2ms/step - loss: 0.1135 - accuracy: 0.9488 - val_loss: 0.0894 - val_accuracy: 0.9670\n",
      "Epoch 113/200\n",
      "80/80 [==============================] - 0s 2ms/step - loss: 0.1129 - accuracy: 0.9498 - val_loss: 0.0896 - val_accuracy: 0.9670\n",
      "Epoch 114/200\n",
      "80/80 [==============================] - 0s 2ms/step - loss: 0.1131 - accuracy: 0.9500 - val_loss: 0.0894 - val_accuracy: 0.9670\n",
      "Epoch 115/200\n",
      "80/80 [==============================] - 0s 3ms/step - loss: 0.1126 - accuracy: 0.9492 - val_loss: 0.0901 - val_accuracy: 0.9660\n",
      "Epoch 116/200\n"
     ]
    },
    {
     "name": "stdout",
     "output_type": "stream",
     "text": [
      "80/80 [==============================] - 0s 2ms/step - loss: 0.1126 - accuracy: 0.9492 - val_loss: 0.0895 - val_accuracy: 0.9670\n",
      "Epoch 117/200\n",
      "80/80 [==============================] - 0s 2ms/step - loss: 0.1133 - accuracy: 0.9490 - val_loss: 0.0895 - val_accuracy: 0.9670\n",
      "Epoch 118/200\n",
      "80/80 [==============================] - 0s 2ms/step - loss: 0.1131 - accuracy: 0.9492 - val_loss: 0.0898 - val_accuracy: 0.9660\n",
      "Epoch 119/200\n",
      "80/80 [==============================] - 0s 2ms/step - loss: 0.1135 - accuracy: 0.9498 - val_loss: 0.0894 - val_accuracy: 0.9670\n",
      "Epoch 120/200\n",
      "80/80 [==============================] - 0s 2ms/step - loss: 0.1139 - accuracy: 0.9492 - val_loss: 0.0893 - val_accuracy: 0.9660\n",
      "Epoch 121/200\n",
      "80/80 [==============================] - 0s 2ms/step - loss: 0.1130 - accuracy: 0.9490 - val_loss: 0.0904 - val_accuracy: 0.9650\n",
      "Epoch 122/200\n",
      "80/80 [==============================] - 0s 2ms/step - loss: 0.1135 - accuracy: 0.9492 - val_loss: 0.0898 - val_accuracy: 0.9660\n",
      "Epoch 123/200\n",
      "80/80 [==============================] - 0s 2ms/step - loss: 0.1129 - accuracy: 0.9500 - val_loss: 0.0894 - val_accuracy: 0.9680\n",
      "Epoch 124/200\n",
      "80/80 [==============================] - 0s 2ms/step - loss: 0.1134 - accuracy: 0.9485 - val_loss: 0.0905 - val_accuracy: 0.9650\n",
      "Epoch 125/200\n",
      "80/80 [==============================] - 0s 1ms/step - loss: 0.1129 - accuracy: 0.9488 - val_loss: 0.0892 - val_accuracy: 0.9670\n",
      "Epoch 126/200\n",
      "80/80 [==============================] - 0s 1ms/step - loss: 0.1127 - accuracy: 0.9500 - val_loss: 0.0900 - val_accuracy: 0.9650\n",
      "Epoch 127/200\n",
      "80/80 [==============================] - 0s 2ms/step - loss: 0.1128 - accuracy: 0.9485 - val_loss: 0.0895 - val_accuracy: 0.9670\n",
      "Epoch 128/200\n",
      "80/80 [==============================] - 0s 2ms/step - loss: 0.1129 - accuracy: 0.9485 - val_loss: 0.0904 - val_accuracy: 0.9650\n",
      "Epoch 129/200\n",
      "80/80 [==============================] - 0s 2ms/step - loss: 0.1129 - accuracy: 0.9490 - val_loss: 0.0894 - val_accuracy: 0.9660\n",
      "Epoch 130/200\n",
      "80/80 [==============================] - 0s 2ms/step - loss: 0.1129 - accuracy: 0.9495 - val_loss: 0.0895 - val_accuracy: 0.9670\n",
      "Epoch 131/200\n",
      "80/80 [==============================] - 0s 2ms/step - loss: 0.1131 - accuracy: 0.9488 - val_loss: 0.0915 - val_accuracy: 0.9660\n",
      "Epoch 132/200\n",
      "80/80 [==============================] - 0s 2ms/step - loss: 0.1135 - accuracy: 0.9503 - val_loss: 0.0896 - val_accuracy: 0.9670\n",
      "Epoch 133/200\n",
      "80/80 [==============================] - 0s 2ms/step - loss: 0.1129 - accuracy: 0.9495 - val_loss: 0.0895 - val_accuracy: 0.9680\n",
      "Epoch 134/200\n",
      "80/80 [==============================] - 0s 2ms/step - loss: 0.1130 - accuracy: 0.9503 - val_loss: 0.0902 - val_accuracy: 0.9650\n",
      "Epoch 135/200\n",
      "80/80 [==============================] - 0s 2ms/step - loss: 0.1126 - accuracy: 0.9492 - val_loss: 0.0896 - val_accuracy: 0.9670\n",
      "Epoch 136/200\n",
      "80/80 [==============================] - 0s 2ms/step - loss: 0.1129 - accuracy: 0.9498 - val_loss: 0.0896 - val_accuracy: 0.9670\n",
      "Epoch 137/200\n",
      "80/80 [==============================] - 0s 2ms/step - loss: 0.1127 - accuracy: 0.9488 - val_loss: 0.0895 - val_accuracy: 0.9660\n",
      "Epoch 138/200\n",
      "80/80 [==============================] - 0s 2ms/step - loss: 0.1128 - accuracy: 0.9490 - val_loss: 0.0910 - val_accuracy: 0.9650\n",
      "Epoch 139/200\n",
      "80/80 [==============================] - 0s 2ms/step - loss: 0.1134 - accuracy: 0.9488 - val_loss: 0.0894 - val_accuracy: 0.9670\n",
      "Epoch 140/200\n",
      "80/80 [==============================] - 0s 2ms/step - loss: 0.1127 - accuracy: 0.9500 - val_loss: 0.0898 - val_accuracy: 0.9660\n",
      "Epoch 141/200\n",
      "80/80 [==============================] - 0s 2ms/step - loss: 0.1130 - accuracy: 0.9507 - val_loss: 0.0900 - val_accuracy: 0.9660\n",
      "Epoch 142/200\n",
      "80/80 [==============================] - 0s 2ms/step - loss: 0.1128 - accuracy: 0.9498 - val_loss: 0.0894 - val_accuracy: 0.9660\n",
      "Epoch 143/200\n",
      "80/80 [==============================] - 0s 2ms/step - loss: 0.1130 - accuracy: 0.9503 - val_loss: 0.0896 - val_accuracy: 0.9670\n",
      "Epoch 144/200\n",
      "80/80 [==============================] - 0s 2ms/step - loss: 0.1129 - accuracy: 0.9495 - val_loss: 0.0894 - val_accuracy: 0.9680\n",
      "Epoch 145/200\n",
      "80/80 [==============================] - 0s 2ms/step - loss: 0.1128 - accuracy: 0.9498 - val_loss: 0.0893 - val_accuracy: 0.9680\n",
      "Epoch 146/200\n",
      "80/80 [==============================] - 0s 3ms/step - loss: 0.1129 - accuracy: 0.9498 - val_loss: 0.0893 - val_accuracy: 0.9680\n",
      "Epoch 147/200\n",
      "80/80 [==============================] - 0s 2ms/step - loss: 0.1129 - accuracy: 0.9495 - val_loss: 0.0894 - val_accuracy: 0.9680\n",
      "Epoch 148/200\n",
      "80/80 [==============================] - 0s 2ms/step - loss: 0.1130 - accuracy: 0.9490 - val_loss: 0.0894 - val_accuracy: 0.9680\n",
      "Epoch 149/200\n",
      "80/80 [==============================] - 0s 2ms/step - loss: 0.1134 - accuracy: 0.9510 - val_loss: 0.0897 - val_accuracy: 0.9670\n",
      "Epoch 150/200\n",
      "80/80 [==============================] - 0s 2ms/step - loss: 0.1128 - accuracy: 0.9482 - val_loss: 0.0896 - val_accuracy: 0.9670\n",
      "Epoch 151/200\n",
      "80/80 [==============================] - 0s 2ms/step - loss: 0.1132 - accuracy: 0.9492 - val_loss: 0.0895 - val_accuracy: 0.9670\n",
      "Epoch 152/200\n",
      "80/80 [==============================] - 0s 2ms/step - loss: 0.1127 - accuracy: 0.9492 - val_loss: 0.0892 - val_accuracy: 0.9680\n",
      "Epoch 153/200\n",
      "80/80 [==============================] - 0s 2ms/step - loss: 0.1133 - accuracy: 0.9490 - val_loss: 0.0894 - val_accuracy: 0.9670\n",
      "Epoch 154/200\n",
      "80/80 [==============================] - 0s 2ms/step - loss: 0.1132 - accuracy: 0.9488 - val_loss: 0.0904 - val_accuracy: 0.9650\n",
      "Epoch 155/200\n",
      "80/80 [==============================] - 0s 2ms/step - loss: 0.1128 - accuracy: 0.9495 - val_loss: 0.0895 - val_accuracy: 0.9670\n",
      "Epoch 156/200\n",
      "80/80 [==============================] - 0s 2ms/step - loss: 0.1131 - accuracy: 0.9495 - val_loss: 0.0894 - val_accuracy: 0.9660\n",
      "Epoch 157/200\n",
      "80/80 [==============================] - 0s 2ms/step - loss: 0.1128 - accuracy: 0.9490 - val_loss: 0.0896 - val_accuracy: 0.9670\n",
      "Epoch 158/200\n",
      "80/80 [==============================] - 0s 3ms/step - loss: 0.1132 - accuracy: 0.9500 - val_loss: 0.0896 - val_accuracy: 0.9680\n",
      "Epoch 159/200\n",
      "80/80 [==============================] - 0s 2ms/step - loss: 0.1131 - accuracy: 0.9500 - val_loss: 0.0900 - val_accuracy: 0.9650\n",
      "Epoch 160/200\n",
      "80/80 [==============================] - 0s 2ms/step - loss: 0.1133 - accuracy: 0.9475 - val_loss: 0.0894 - val_accuracy: 0.9670\n",
      "Epoch 161/200\n",
      "80/80 [==============================] - ETA: 0s - loss: 0.1113 - accuracy: 0.94 - 0s 2ms/step - loss: 0.1127 - accuracy: 0.9498 - val_loss: 0.0894 - val_accuracy: 0.9670\n",
      "Epoch 162/200\n",
      "80/80 [==============================] - 0s 2ms/step - loss: 0.1129 - accuracy: 0.9503 - val_loss: 0.0900 - val_accuracy: 0.9660\n",
      "Epoch 163/200\n",
      "80/80 [==============================] - 0s 2ms/step - loss: 0.1131 - accuracy: 0.9485 - val_loss: 0.0908 - val_accuracy: 0.9660\n",
      "Epoch 164/200\n",
      "80/80 [==============================] - 0s 2ms/step - loss: 0.1128 - accuracy: 0.9513 - val_loss: 0.0894 - val_accuracy: 0.9680\n",
      "Epoch 165/200\n",
      "80/80 [==============================] - 0s 2ms/step - loss: 0.1131 - accuracy: 0.9495 - val_loss: 0.0895 - val_accuracy: 0.9670\n",
      "Epoch 166/200\n",
      "80/80 [==============================] - 0s 2ms/step - loss: 0.1130 - accuracy: 0.9500 - val_loss: 0.0892 - val_accuracy: 0.9680\n",
      "Epoch 167/200\n",
      "80/80 [==============================] - 0s 2ms/step - loss: 0.1127 - accuracy: 0.9503 - val_loss: 0.0894 - val_accuracy: 0.9670\n",
      "Epoch 168/200\n",
      "80/80 [==============================] - 0s 2ms/step - loss: 0.1131 - accuracy: 0.9505 - val_loss: 0.0900 - val_accuracy: 0.9660\n",
      "Epoch 169/200\n",
      "80/80 [==============================] - 0s 2ms/step - loss: 0.1130 - accuracy: 0.9490 - val_loss: 0.0895 - val_accuracy: 0.9670\n",
      "Epoch 170/200\n",
      "80/80 [==============================] - 0s 2ms/step - loss: 0.1128 - accuracy: 0.9503 - val_loss: 0.0894 - val_accuracy: 0.9660\n",
      "Epoch 171/200\n",
      "80/80 [==============================] - 0s 2ms/step - loss: 0.1128 - accuracy: 0.9488 - val_loss: 0.0898 - val_accuracy: 0.9670\n",
      "Epoch 172/200\n",
      "80/80 [==============================] - 0s 2ms/step - loss: 0.1127 - accuracy: 0.9495 - val_loss: 0.0899 - val_accuracy: 0.9660\n",
      "Epoch 173/200\n"
     ]
    },
    {
     "name": "stdout",
     "output_type": "stream",
     "text": [
      "80/80 [==============================] - 0s 3ms/step - loss: 0.1133 - accuracy: 0.9490 - val_loss: 0.0894 - val_accuracy: 0.9680\n",
      "Epoch 174/200\n",
      "80/80 [==============================] - 0s 2ms/step - loss: 0.1128 - accuracy: 0.9498 - val_loss: 0.0896 - val_accuracy: 0.9670\n",
      "Epoch 175/200\n",
      "80/80 [==============================] - 0s 2ms/step - loss: 0.1127 - accuracy: 0.9490 - val_loss: 0.0894 - val_accuracy: 0.9670\n",
      "Epoch 176/200\n",
      "80/80 [==============================] - 0s 2ms/step - loss: 0.1128 - accuracy: 0.9488 - val_loss: 0.0895 - val_accuracy: 0.9670\n",
      "Epoch 177/200\n",
      "80/80 [==============================] - 0s 2ms/step - loss: 0.1127 - accuracy: 0.9482 - val_loss: 0.0900 - val_accuracy: 0.9660\n",
      "Epoch 178/200\n",
      "80/80 [==============================] - 0s 2ms/step - loss: 0.1128 - accuracy: 0.9500 - val_loss: 0.0893 - val_accuracy: 0.9660\n",
      "Epoch 179/200\n",
      "80/80 [==============================] - 0s 2ms/step - loss: 0.1129 - accuracy: 0.9492 - val_loss: 0.0895 - val_accuracy: 0.9670\n",
      "Epoch 180/200\n",
      "80/80 [==============================] - 0s 2ms/step - loss: 0.1130 - accuracy: 0.9492 - val_loss: 0.0892 - val_accuracy: 0.9670\n",
      "Epoch 181/200\n",
      "80/80 [==============================] - 0s 2ms/step - loss: 0.1131 - accuracy: 0.9495 - val_loss: 0.0894 - val_accuracy: 0.9680\n",
      "Epoch 182/200\n",
      "80/80 [==============================] - 0s 2ms/step - loss: 0.1128 - accuracy: 0.9503 - val_loss: 0.0893 - val_accuracy: 0.9670\n",
      "Epoch 183/200\n",
      "80/80 [==============================] - 0s 2ms/step - loss: 0.1129 - accuracy: 0.9507 - val_loss: 0.0901 - val_accuracy: 0.9650\n",
      "Epoch 184/200\n",
      "80/80 [==============================] - 0s 2ms/step - loss: 0.1132 - accuracy: 0.9495 - val_loss: 0.0896 - val_accuracy: 0.9670\n",
      "Epoch 185/200\n",
      "80/80 [==============================] - 0s 2ms/step - loss: 0.1131 - accuracy: 0.9490 - val_loss: 0.0892 - val_accuracy: 0.9670\n",
      "Epoch 186/200\n",
      "80/80 [==============================] - 0s 2ms/step - loss: 0.1131 - accuracy: 0.9507 - val_loss: 0.0895 - val_accuracy: 0.9670\n",
      "Epoch 187/200\n",
      "80/80 [==============================] - 0s 2ms/step - loss: 0.1128 - accuracy: 0.9500 - val_loss: 0.0891 - val_accuracy: 0.9670\n",
      "Epoch 188/200\n",
      "80/80 [==============================] - 0s 2ms/step - loss: 0.1132 - accuracy: 0.9475 - val_loss: 0.0894 - val_accuracy: 0.9670\n",
      "Epoch 189/200\n",
      "80/80 [==============================] - 0s 2ms/step - loss: 0.1129 - accuracy: 0.9495 - val_loss: 0.0893 - val_accuracy: 0.9670\n",
      "Epoch 190/200\n",
      "80/80 [==============================] - 0s 2ms/step - loss: 0.1131 - accuracy: 0.9488 - val_loss: 0.0894 - val_accuracy: 0.9660\n",
      "Epoch 191/200\n",
      "80/80 [==============================] - 0s 2ms/step - loss: 0.1131 - accuracy: 0.9492 - val_loss: 0.0895 - val_accuracy: 0.9660\n",
      "Epoch 192/200\n",
      "80/80 [==============================] - 0s 2ms/step - loss: 0.1129 - accuracy: 0.9495 - val_loss: 0.0898 - val_accuracy: 0.9660\n",
      "Epoch 193/200\n",
      "80/80 [==============================] - 0s 2ms/step - loss: 0.1132 - accuracy: 0.9485 - val_loss: 0.0894 - val_accuracy: 0.9660\n",
      "Epoch 194/200\n",
      "80/80 [==============================] - 0s 2ms/step - loss: 0.1131 - accuracy: 0.9495 - val_loss: 0.0893 - val_accuracy: 0.9660\n",
      "Epoch 195/200\n",
      "80/80 [==============================] - 0s 2ms/step - loss: 0.1137 - accuracy: 0.9482 - val_loss: 0.0895 - val_accuracy: 0.9660\n",
      "Epoch 196/200\n",
      "80/80 [==============================] - 0s 2ms/step - loss: 0.1127 - accuracy: 0.9490 - val_loss: 0.0908 - val_accuracy: 0.9660\n",
      "Epoch 197/200\n",
      "80/80 [==============================] - 0s 2ms/step - loss: 0.1131 - accuracy: 0.9495 - val_loss: 0.0895 - val_accuracy: 0.9670\n",
      "Epoch 198/200\n",
      "80/80 [==============================] - 0s 2ms/step - loss: 0.1129 - accuracy: 0.9490 - val_loss: 0.0895 - val_accuracy: 0.9670\n",
      "Epoch 199/200\n",
      "80/80 [==============================] - 0s 2ms/step - loss: 0.1128 - accuracy: 0.9490 - val_loss: 0.0896 - val_accuracy: 0.9660\n",
      "Epoch 200/200\n",
      "80/80 [==============================] - 0s 2ms/step - loss: 0.1133 - accuracy: 0.9500 - val_loss: 0.0901 - val_accuracy: 0.9660\n"
     ]
    },
    {
     "data": {
      "text/plain": [
       "<tensorflow.python.keras.callbacks.History at 0x7fb0f27e6fd0>"
      ]
     },
     "execution_count": 26,
     "metadata": {},
     "output_type": "execute_result"
    }
   ],
   "source": [
    "model.fit(x, y, epochs=200,validation_split=0.2, batch_size=50)"
   ]
  },
  {
   "cell_type": "code",
   "execution_count": 27,
   "metadata": {},
   "outputs": [
    {
     "data": {
      "text/plain": [
       "[array([[3.7115893],\n",
       "        [1.1391014],\n",
       "        [4.426828 ]], dtype=float32),\n",
       " array([-4.8072014], dtype=float32)]"
      ]
     },
     "execution_count": 27,
     "metadata": {},
     "output_type": "execute_result"
    }
   ],
   "source": [
    "model.get_weights()"
   ]
  },
  {
   "cell_type": "code",
   "execution_count": 30,
   "metadata": {},
   "outputs": [],
   "source": [
    "import matplotlib.pyplot as plt"
   ]
  },
  {
   "cell_type": "code",
   "execution_count": 58,
   "metadata": {},
   "outputs": [
    {
     "data": {
      "text/plain": [
       "186"
      ]
     },
     "execution_count": 58,
     "metadata": {},
     "output_type": "execute_result"
    }
   ],
   "source": [
    "np.argmin(model.history.history['val_loss'])"
   ]
  },
  {
   "cell_type": "code",
   "execution_count": 56,
   "metadata": {},
   "outputs": [
    {
     "data": {
      "text/plain": [
       "[<matplotlib.lines.Line2D at 0x7fb0d579beb0>]"
      ]
     },
     "execution_count": 56,
     "metadata": {},
     "output_type": "execute_result"
    },
    {
     "data": {
      "image/png": "[encoded data removed]",
      "text/plain": [
       "<Figure size 432x288 with 1 Axes>"
      ]
     },
     "metadata": {
      "needs_background": "light"
     },
     "output_type": "display_data"
    }
   ],
   "source": [
    "plt.plot(model.history.history['val_loss'][50:200])"
   ]
  },
  {
   "cell_type": "markdown",
   "metadata": {},
   "source": [
    "### Final Neural Network"
   ]
  },
  {
   "cell_type": "code",
   "execution_count": 59,
   "metadata": {},
   "outputs": [
    {
     "data": {
      "text/plain": [
       "<tensorflow.python.keras.callbacks.History at 0x7fb0d57f10d0>"
      ]
     },
     "execution_count": 59,
     "metadata": {},
     "output_type": "execute_result"
    }
   ],
   "source": [
    "model = tf.keras.Sequential() # start a sequential neuron\n",
    "model.add(layers.Dense(1, input_shape=(3,),use_bias=True, activation='sigmoid'))\n",
    "\n",
    "model.compile(optimizer=tf.keras.optimizers.Adam(0.01),\n",
    "              loss='binary_crossentropy', metrics=['accuracy']) # define loss function and optimization methods\n",
    "model.fit(x, y, epochs=186, batch_size=50, verbose=0)"
   ]
  },
  {
   "cell_type": "code",
   "execution_count": 60,
   "metadata": {},
   "outputs": [
    {
     "data": {
      "text/plain": [
       "[array([[3.8468232],\n",
       "        [1.2185234],\n",
       "        [4.5165977]], dtype=float32),\n",
       " array([-4.9375563], dtype=float32)]"
      ]
     },
     "execution_count": 60,
     "metadata": {},
     "output_type": "execute_result"
    }
   ],
   "source": [
    "model.get_weights()"
   ]
  },
  {
   "cell_type": "markdown",
   "metadata": {},
   "source": [
    "## Fashion MNIST classification model"
   ]
  },
  {
   "cell_type": "code",
   "execution_count": 61,
   "metadata": {},
   "outputs": [],
   "source": [
    "from tensorflow import keras\n",
    "fashion_mnist = keras.datasets.fashion_mnist"
   ]
  },
  {
   "cell_type": "markdown",
   "metadata": {},
   "source": [
    "**** Notes ****\n",
    "\n",
    "In Mac Run the following command first if you encounter security warning\n",
    "\n",
    "```open /Applications/Python\\ 3.7/Install\\ Certificates.command```\n",
    "\n",
    "Example URL: https://www.tensorflow.org/tutorials/keras/classification"
   ]
  },
  {
   "cell_type": "code",
   "execution_count": 62,
   "metadata": {},
   "outputs": [],
   "source": [
    "fashion_mnist = keras.datasets.fashion_mnist\n",
    "\n",
    "(train_images, train_labels), (test_images, test_labels) = fashion_mnist.load_data()"
   ]
  },
  {
   "cell_type": "code",
   "execution_count": 63,
   "metadata": {},
   "outputs": [
    {
     "data": {
      "text/plain": [
       "(60000, 28, 28)"
      ]
     },
     "execution_count": 63,
     "metadata": {},
     "output_type": "execute_result"
    }
   ],
   "source": [
    "train_images.shape"
   ]
  },
  {
   "cell_type": "code",
   "execution_count": 65,
   "metadata": {},
   "outputs": [
    {
     "data": {
      "text/plain": [
       "(28, 28)"
      ]
     },
     "execution_count": 65,
     "metadata": {},
     "output_type": "execute_result"
    }
   ],
   "source": [
    "train_images[1].shape"
   ]
  },
  {
   "cell_type": "code",
   "execution_count": 68,
   "metadata": {},
   "outputs": [
    {
     "data": {
      "text/plain": [
       "array([0, 1, 2, 3, 4, 5, 6, 7, 8, 9], dtype=uint8)"
      ]
     },
     "execution_count": 68,
     "metadata": {},
     "output_type": "execute_result"
    }
   ],
   "source": [
    "np.unique(train_labels)"
   ]
  },
  {
   "cell_type": "code",
   "execution_count": 67,
   "metadata": {},
   "outputs": [
    {
     "data": {
      "image/png": "[encoded data removed]",
      "text/plain": [
       "<Figure size 432x288 with 2 Axes>"
      ]
     },
     "metadata": {
      "needs_background": "light"
     },
     "output_type": "display_data"
    }
   ],
   "source": [
    "import numpy as np\n",
    "import matplotlib.pyplot as plt\n",
    "plt.figure()\n",
    "plt.imshow(train_images[0])\n",
    "plt.colorbar()\n",
    "plt.grid(False)\n",
    "plt.show()"
   ]
  },
  {
   "cell_type": "code",
   "execution_count": 69,
   "metadata": {},
   "outputs": [],
   "source": [
    "model = keras.Sequential([\n",
    "    keras.layers.Flatten(input_shape=(28, 28)), #input layer\n",
    "    keras.layers.Dense(128, activation='relu'), #hidden layer\n",
    "    keras.layers.Dense(10, activation='softmax') #Output layer\n",
    "])\n",
    "\n",
    "model.compile(optimizer='adam',\n",
    "              loss='sparse_categorical_crossentropy',\n",
    "              metrics=['accuracy'])"
   ]
  },
  {
   "cell_type": "code",
   "execution_count": 77,
   "metadata": {},
   "outputs": [
    {
     "name": "stdout",
     "output_type": "stream",
     "text": [
      "Epoch 1/10\n",
      "4800/4800 [==============================] - 11s 2ms/step - loss: 0.6992 - accuracy: 0.7248 - val_loss: 0.7136 - val_accuracy: 0.7130\n",
      "Epoch 2/10\n",
      "4800/4800 [==============================] - 10s 2ms/step - loss: 0.7093 - accuracy: 0.7236 - val_loss: 0.7306 - val_accuracy: 0.7292\n",
      "Epoch 3/10\n",
      "4800/4800 [==============================] - 9s 2ms/step - loss: 0.7017 - accuracy: 0.7228 - val_loss: 0.7836 - val_accuracy: 0.6988\n",
      "Epoch 4/10\n",
      "4800/4800 [==============================] - 10s 2ms/step - loss: 0.7040 - accuracy: 0.7279 - val_loss: 0.7647 - val_accuracy: 0.7163\n",
      "Epoch 5/10\n",
      "4800/4800 [==============================] - 10s 2ms/step - loss: 0.7001 - accuracy: 0.7263 - val_loss: 0.7464 - val_accuracy: 0.7139\n",
      "Epoch 6/10\n",
      "4800/4800 [==============================] - 13s 3ms/step - loss: 0.7115 - accuracy: 0.7249 - val_loss: 0.7203 - val_accuracy: 0.7382\n",
      "Epoch 7/10\n",
      "4800/4800 [==============================] - 11s 2ms/step - loss: 0.6844 - accuracy: 0.7308 - val_loss: 0.6944 - val_accuracy: 0.7305\n",
      "Epoch 8/10\n",
      "4800/4800 [==============================] - 10s 2ms/step - loss: 0.6937 - accuracy: 0.7300 - val_loss: 0.7514 - val_accuracy: 0.7080\n",
      "Epoch 9/10\n",
      "4800/4800 [==============================] - 10s 2ms/step - loss: 0.6948 - accuracy: 0.7243 - val_loss: 0.7469 - val_accuracy: 0.7207\n",
      "Epoch 10/10\n",
      "4800/4800 [==============================] - 10s 2ms/step - loss: 0.6945 - accuracy: 0.7276 - val_loss: 0.7197 - val_accuracy: 0.7265\n"
     ]
    },
    {
     "data": {
      "text/plain": [
       "<tensorflow.python.keras.callbacks.History at 0x7fb0e406fb20>"
      ]
     },
     "execution_count": 77,
     "metadata": {},
     "output_type": "execute_result"
    }
   ],
   "source": [
    "model.fit(train_images, train_labels, epochs=10,validation_split=0.2, batch_size=10)"
   ]
  },
  {
   "cell_type": "code",
   "execution_count": 78,
   "metadata": {},
   "outputs": [
    {
     "data": {
      "text/plain": [
       "6"
      ]
     },
     "execution_count": 78,
     "metadata": {},
     "output_type": "execute_result"
    }
   ],
   "source": [
    "np.argmin(model.history.history['val_loss'])"
   ]
  },
  {
   "cell_type": "code",
   "execution_count": 79,
   "metadata": {},
   "outputs": [
    {
     "name": "stdout",
     "output_type": "stream",
     "text": [
      "Epoch 1/7\n",
      "4800/4800 [==============================] - 11s 2ms/step - loss: 2.1527 - accuracy: 0.6913 - val_loss: 0.7004 - val_accuracy: 0.7498\n",
      "Epoch 2/7\n",
      "4800/4800 [==============================] - 11s 2ms/step - loss: 0.6974 - accuracy: 0.7706 - val_loss: 0.6857 - val_accuracy: 0.7888\n",
      "Epoch 3/7\n",
      "4800/4800 [==============================] - 12s 2ms/step - loss: 0.6734 - accuracy: 0.7837 - val_loss: 0.7006 - val_accuracy: 0.7284\n",
      "Epoch 4/7\n",
      "4800/4800 [==============================] - 11s 2ms/step - loss: 0.6332 - accuracy: 0.7986 - val_loss: 0.7092 - val_accuracy: 0.7691\n",
      "Epoch 5/7\n",
      "4800/4800 [==============================] - 13s 3ms/step - loss: 0.6227 - accuracy: 0.8028 - val_loss: 0.5515 - val_accuracy: 0.8203\n",
      "Epoch 6/7\n",
      "4800/4800 [==============================] - 12s 2ms/step - loss: 0.6167 - accuracy: 0.8057 - val_loss: 0.6629 - val_accuracy: 0.7978\n",
      "Epoch 7/7\n",
      "4800/4800 [==============================] - 13s 3ms/step - loss: 0.6013 - accuracy: 0.8099 - val_loss: 0.7987 - val_accuracy: 0.7803\n"
     ]
    },
    {
     "data": {
      "text/plain": [
       "<tensorflow.python.keras.callbacks.History at 0x7fb0c78c1be0>"
      ]
     },
     "execution_count": 79,
     "metadata": {},
     "output_type": "execute_result"
    }
   ],
   "source": [
    "model = keras.Sequential([\n",
    "    keras.layers.Flatten(input_shape=(28, 28)), #input layer\n",
    "    keras.layers.Dense(128, activation='relu'), #hidden layer\n",
    "    keras.layers.Dense(10, activation='softmax') #Output layer\n",
    "])\n",
    "\n",
    "model.compile(optimizer='adam',\n",
    "              loss='sparse_categorical_crossentropy',\n",
    "              metrics=['accuracy'])\n",
    "model.fit(train_images, train_labels, epochs=7,validation_split=0.2, batch_size=10)"
   ]
  },
  {
   "cell_type": "code",
   "execution_count": 93,
   "metadata": {},
   "outputs": [
    {
     "data": {
      "image/png": "[encoded data removed]",
      "text/plain": [
       "<Figure size 432x288 with 2 Axes>"
      ]
     },
     "metadata": {
      "needs_background": "light"
     },
     "output_type": "display_data"
    }
   ],
   "source": [
    "plt.figure()\n",
    "plt.imshow(test_images[10])\n",
    "plt.colorbar()\n",
    "plt.grid(False)\n",
    "plt.show()"
   ]
  },
  {
   "cell_type": "code",
   "execution_count": 94,
   "metadata": {},
   "outputs": [],
   "source": [
    "selectimageid=10"
   ]
  },
  {
   "cell_type": "code",
   "execution_count": 95,
   "metadata": {},
   "outputs": [
    {
     "name": "stdout",
     "output_type": "stream",
     "text": [
      "1/1 - 0s - loss: 0.8755 - accuracy: 1.0000\n"
     ]
    },
    {
     "data": {
      "text/plain": [
       "[0.8755269050598145, 1.0]"
      ]
     },
     "execution_count": 95,
     "metadata": {},
     "output_type": "execute_result"
    }
   ],
   "source": [
    "model.evaluate(test_images[selectimageid:(selectimageid+1)], test_labels[selectimageid:(selectimageid+1)], verbose=2)"
   ]
  },
  {
   "cell_type": "code",
   "execution_count": 96,
   "metadata": {},
   "outputs": [
    {
     "data": {
      "text/plain": [
       "array([4], dtype=uint8)"
      ]
     },
     "execution_count": 96,
     "metadata": {},
     "output_type": "execute_result"
    }
   ],
   "source": [
    "test_labels[selectimageid:(selectimageid+1)] #Ground Truth"
   ]
  },
  {
   "cell_type": "code",
   "execution_count": 97,
   "metadata": {},
   "outputs": [
    {
     "data": {
      "text/plain": [
       "array([[1.7137366e-03, 4.2799144e-04, 3.8329640e-01, 1.3233942e-03,\n",
       "        4.1664243e-01, 1.8976743e-21, 1.9616550e-01, 0.0000000e+00,\n",
       "        4.3048710e-04, 2.0383293e-31]], dtype=float32)"
      ]
     },
     "execution_count": 97,
     "metadata": {},
     "output_type": "execute_result"
    }
   ],
   "source": [
    "model.predict(test_images[selectimageid:(selectimageid+1)])"
   ]
  },
  {
   "cell_type": "code",
   "execution_count": 98,
   "metadata": {},
   "outputs": [
    {
     "data": {
      "text/plain": [
       "4"
      ]
     },
     "execution_count": 98,
     "metadata": {},
     "output_type": "execute_result"
    }
   ],
   "source": [
    "np.argmax(model.predict(test_images[selectimageid:(selectimageid+1)]))"
   ]
  },
  {
   "cell_type": "code",
   "execution_count": null,
   "metadata": {},
   "outputs": [],
   "source": []
  }
 ],
 "metadata": {
  "kernelspec": {
   "display_name": "Python 3",
   "language": "python",
   "name": "python3"
  },
  "language_info": {
   "codemirror_mode": {
    "name": "ipython",
    "version": 3
   },
   "file_extension": ".py",
   "mimetype": "text/x-python",
   "name": "python",
   "nbconvert_exporter": "python",
   "pygments_lexer": "ipython3",
   "version": "3.8.3"
  }
 },
 "nbformat": 4,
 "nbformat_minor": 2
}
