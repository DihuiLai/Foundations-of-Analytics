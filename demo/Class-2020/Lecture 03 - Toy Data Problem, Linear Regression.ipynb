{
 "cells": [
  {
   "cell_type": "markdown",
   "metadata": {},
   "source": [
    "# Lecture 03 - Toy Problem, Linear Regression"
   ]
  },
  {
   "cell_type": "code",
   "execution_count": null,
   "metadata": {},
   "outputs": [],
   "source": [
    "import numpy as np\n",
    "import matplotlib.pyplot as plt"
   ]
  },
  {
   "cell_type": "markdown",
   "metadata": {},
   "source": [
    "## 1. Toy Data Problem"
   ]
  },
  {
   "cell_type": "markdown",
   "metadata": {},
   "source": [
    "### Data From Your 100 Friends"
   ]
  },
  {
   "cell_type": "code",
   "execution_count": null,
   "metadata": {},
   "outputs": [],
   "source": [
    "socks=np.random.randint(1, 10, 100)\n",
    "pants=np.random.randint(1, 10, 100)\n",
    "other_impact=np.random.randn(100)\n",
    "cost=23.0*pants+5.0*socks+2.0*other_impact\n",
    "X=np.column_stack((socks, pants, other_impact, cost))"
   ]
  },
  {
   "cell_type": "code",
   "execution_count": null,
   "metadata": {},
   "outputs": [],
   "source": [
    "X"
   ]
  },
  {
   "cell_type": "markdown",
   "metadata": {},
   "source": [
    "### Visualization Cost v.s. Pants"
   ]
  },
  {
   "cell_type": "code",
   "execution_count": null,
   "metadata": {},
   "outputs": [],
   "source": [
    "plt.scatter(X[:,1], X[:,3])\n",
    "plt.title('Scatter plot')\n",
    "plt.xlabel('pants')\n",
    "plt.ylabel('cost')\n",
    "plt.show()"
   ]
  },
  {
   "cell_type": "markdown",
   "metadata": {},
   "source": [
    "### Visualization Cost v.s. Socks"
   ]
  },
  {
   "cell_type": "code",
   "execution_count": null,
   "metadata": {},
   "outputs": [],
   "source": [
    "plt.scatter(X[:,0], X[:,3])\n",
    "plt.title('Scatter plot')\n",
    "plt.xlabel('socks')\n",
    "plt.ylabel('cost')\n",
    "plt.show()"
   ]
  },
  {
   "cell_type": "markdown",
   "metadata": {},
   "source": [
    "## 2. Single Variable Linear Regression\n",
    "#### Model:  $y = \\beta_0 +\\beta_1 x$\n",
    "\n",
    "#### Model estimation:\n",
    "\\begin{equation}\n",
    "\\beta_1=\\frac{\\frac{1}{n}\\sum\\limits_{i=1}^{n}y^{i}x^{i}-\\bar{y}\\bar{x}}{{\\frac{1}{n}\\sum\\limits_{i=1}^{n}x^{i}x^{i}}-\\bar{x}\\bar{x}}=\\frac{Cov(X,Y)}{Var(X)}=\\rho_{XY}\\frac{\\sigma_Y}{\\sigma_X}\n",
    "\\end{equation}\n",
    "\\begin{equation}\n",
    "{\\beta_0}=(\\bar{y}-\\beta_1\\bar{x})\n",
    "\\end{equation}\n"
   ]
  },
  {
   "cell_type": "code",
   "execution_count": 16,
   "metadata": {},
   "outputs": [],
   "source": [
    "Ycost=X[:, 3]  #use the 4th column i.e. cost as the target variable \n",
    "Xpants=X[:, 1] #use 2nd column i.e. number of pants as predictor"
   ]
  },
  {
   "cell_type": "code",
   "execution_count": 18,
   "metadata": {},
   "outputs": [
    {
     "data": {
      "text/plain": [
       "array([[   7.5971    ,  178.85101756],\n",
       "       [ 178.85101756, 4398.46887898]])"
      ]
     },
     "execution_count": 18,
     "metadata": {},
     "output_type": "execute_result"
    }
   ],
   "source": [
    "np.cov(Xpants, Ycost, bias=True)"
   ]
  },
  {
   "cell_type": "code",
   "execution_count": 19,
   "metadata": {},
   "outputs": [
    {
     "name": "stdout",
     "output_type": "stream",
     "text": [
      "23.5420117621162\n"
     ]
    }
   ],
   "source": [
    "print(np.cov(Xpants, Ycost, bias=True)[0][1]/(np.cov(Xpants, Ycost, bias=True))[0][0]) # set bias to be true to be consistent with the sklearn calculation"
   ]
  },
  {
   "cell_type": "code",
   "execution_count": 20,
   "metadata": {},
   "outputs": [],
   "source": [
    "beta1=np.cov(Xpants, Ycost, bias=True)[0][1]/(np.cov(Xpants, Ycost, bias=True))[0][0]"
   ]
  },
  {
   "cell_type": "code",
   "execution_count": 21,
   "metadata": {},
   "outputs": [
    {
     "name": "stdout",
     "output_type": "stream",
     "text": [
      "20.4556816167198\n"
     ]
    }
   ],
   "source": [
    "print(np.mean(Ycost)-beta1*np.mean(Xpants))"
   ]
  },
  {
   "cell_type": "markdown",
   "metadata": {},
   "source": [
    "#### Calculate the correlation coeffcient $\\rho_{XY}$"
   ]
  },
  {
   "cell_type": "markdown",
   "metadata": {},
   "source": [
    "#### Calculate the linear model coefficients \n",
    "\n",
    "$\\beta_1=\\rho_{XY}\\frac{\\sigma_Y}{\\sigma_X}$\n",
    "\n",
    "$\\beta_0=\\bar{y}-\\beta_1 \\bar{x}$"
   ]
  },
  {
   "cell_type": "code",
   "execution_count": 25,
   "metadata": {},
   "outputs": [
    {
     "data": {
      "text/plain": [
       "array([[1.        , 0.97840065],\n",
       "       [0.97840065, 1.        ]])"
      ]
     },
     "execution_count": 25,
     "metadata": {},
     "output_type": "execute_result"
    }
   ],
   "source": [
    "np.corrcoef(Xpants, Ycost)"
   ]
  },
  {
   "cell_type": "code",
   "execution_count": 26,
   "metadata": {},
   "outputs": [
    {
     "name": "stdout",
     "output_type": "stream",
     "text": [
      "beta1 23.542011762116207\n"
     ]
    }
   ],
   "source": [
    "beta1=np.corrcoef(Xpants, Ycost)[0][1]*np.std(Ycost)/np.std(Xpants)\n",
    "\n",
    "print(\"beta1\", beta1)"
   ]
  },
  {
   "cell_type": "code",
   "execution_count": 27,
   "metadata": {},
   "outputs": [
    {
     "name": "stdout",
     "output_type": "stream",
     "text": [
      "beta0 20.455681616719758\n"
     ]
    }
   ],
   "source": [
    "beta0=np.mean(Ycost)-beta1*np.mean(Xpants)\n",
    "print('beta0', beta0)"
   ]
  },
  {
   "cell_type": "markdown",
   "metadata": {},
   "source": [
    "#### Use sklearn package function \n",
    "```class sklearn.linear_model.LinearRegression(fit_intercept=True, normalize=False, copy_X=True, n_jobs=None)```\n",
    "##### Memebers: coef_ ... et.c\n",
    "##### Methods: fit(self, X, y[, sample_weight]) ... etc.\n",
    "\n",
    "\n",
    "\n",
    "#### More Details https://scikit-learn.org/stable/modules/generated/sklearn.linear_model.LinearRegression.html"
   ]
  },
  {
   "cell_type": "code",
   "execution_count": 32,
   "metadata": {},
   "outputs": [],
   "source": [
    "from sklearn.linear_model import LinearRegression"
   ]
  },
  {
   "cell_type": "code",
   "execution_count": 33,
   "metadata": {},
   "outputs": [
    {
     "name": "stdout",
     "output_type": "stream",
     "text": [
      "[array([[23.54201176]]), array([20.45568162])]\n"
     ]
    }
   ],
   "source": [
    "reg = LinearRegression() # Instantiate an object of class LinearRegression\n",
    "reg.fit(Xpants.reshape((100,1)), Ycost.reshape((100,1)))\n",
    "print ([reg.coef_, reg.intercept_])"
   ]
  },
  {
   "cell_type": "markdown",
   "metadata": {},
   "source": [
    "## 3. Multivariate Linear Regression\n",
    "\n",
    "#### Model:  $y = \\beta_0 +\\beta_1 x_1 + \\beta_2 x_2 +\\beta_3 x_3+....\\beta_m x_m$\n",
    "#### Model Estimation $\\beta=({X^T}{X})^{-1}{X^{T}}{y}$\n",
    "\n",
    "#### In our case $Cost=\\beta_0 + \\beta_1 socks+\\beta_2 pants $\n"
   ]
  },
  {
   "cell_type": "code",
   "execution_count": 34,
   "metadata": {},
   "outputs": [],
   "source": [
    "Xpantsocks=X[:, [0, 1]]\n",
    "Ycost_colmat=Ycost.reshape(100,1)"
   ]
  },
  {
   "cell_type": "markdown",
   "metadata": {},
   "source": [
    "#### Fit a linear model with intercept"
   ]
  },
  {
   "cell_type": "code",
   "execution_count": 35,
   "metadata": {},
   "outputs": [
    {
     "name": "stdout",
     "output_type": "stream",
     "text": [
      "[array([[ 4.91746834, 22.96949057]]), array([0.6066405])]\n"
     ]
    }
   ],
   "source": [
    "multireg = LinearRegression()\n",
    "multireg.fit(Xpantsocks, Ycost_colmat) #X[:,(0,1)] - use the first and second column as predictors\n",
    "# note the Ycost.reshape is to make the matrix match the dimention of Xpantsocks \n",
    "print ([multireg.coef_, multireg.intercept_])"
   ]
  },
  {
   "cell_type": "markdown",
   "metadata": {},
   "source": [
    "#### Fit a linear model without intercept"
   ]
  },
  {
   "cell_type": "code",
   "execution_count": 36,
   "metadata": {},
   "outputs": [
    {
     "name": "stdout",
     "output_type": "stream",
     "text": [
      "[array([[ 4.96474856, 23.02593814]]), 0.0]\n"
     ]
    }
   ],
   "source": [
    "multireg = LinearRegression(fit_intercept=False)\n",
    "multireg.fit(Xpantsocks, Ycost_colmat) #X[:,(0,1)] - use the first and second column as predictors\n",
    "# note the Ycost.reshape is to make the matrix match the dimention of Xpantsocks \n",
    "print ([multireg.coef_, multireg.intercept_])"
   ]
  },
  {
   "cell_type": "markdown",
   "metadata": {},
   "source": [
    "#### Multivariate Linear Regression from Scratch: without intercept"
   ]
  },
  {
   "cell_type": "markdown",
   "metadata": {},
   "source": [
    "#### Model Estimation $\\beta=({X^T}{X})^{-1}{X^{T}}{y}$"
   ]
  },
  {
   "cell_type": "code",
   "execution_count": 37,
   "metadata": {},
   "outputs": [],
   "source": [
    "#Calculate bete follow the estimation equation\n",
    "beta=np.matmul(np.matmul(np.linalg.inv(np.matmul(Xpantsocks.T, Xpantsocks)), Xpantsocks.T), Ycost_colmat)"
   ]
  },
  {
   "cell_type": "code",
   "execution_count": 39,
   "metadata": {},
   "outputs": [
    {
     "name": "stdout",
     "output_type": "stream",
     "text": [
      "[[ 4.96474856]\n",
      " [23.02593814]]\n"
     ]
    }
   ],
   "source": [
    "print(beta) # note we are missing the beta0 coefficient, we need to add "
   ]
  },
  {
   "cell_type": "markdown",
   "metadata": {},
   "source": [
    "#### Multivariate Linear Regression from Scratch: with intercept\n",
    "#### Trick: add a column all of ones to the matrix Xpantsocks i.e. a matrix\n",
    "\\begin{equation}\n",
    "X_{nxm,1}=\\begin{bmatrix}x_{1,1} & x_{1,2} & \\dots & x_{1,n} &1   \\\\ x_{2,1} & x_{2,2} & \\dots & \\dots &1  \\\\      x_{3,1} & x_{3,2} & \\ddots & \\dots  &1\\\\      x_{n,1}  & \\vdots  & \\vdots & x_{n,m}   &1  \n",
    "\\end{bmatrix}  \n",
    "\\end{equation}\n",
    "The model results from this data set is \n",
    "\n",
    "$y=\\beta_0 x_0+\\beta_1 x_1+\\beta_2 x_2+ ....\\beta_3 x_3=\\beta_0 +\\beta_1 x_1+\\beta_2 x_2+ ....\\beta_3 x_3$\n",
    "because $x_0=1$"
   ]
  },
  {
   "cell_type": "code",
   "execution_count": 40,
   "metadata": {},
   "outputs": [],
   "source": [
    "Xpantsocks_1=np.column_stack([Xpantsocks, np.ones([100, 1])]) #create the [X, 1] matrix"
   ]
  },
  {
   "cell_type": "code",
   "execution_count": null,
   "metadata": {},
   "outputs": [],
   "source": [
    "Xpantsocks_1"
   ]
  },
  {
   "cell_type": "code",
   "execution_count": 42,
   "metadata": {},
   "outputs": [
    {
     "name": "stdout",
     "output_type": "stream",
     "text": [
      "[[ 4.91746834]\n",
      " [22.96949057]\n",
      " [ 0.6066405 ]]\n"
     ]
    }
   ],
   "source": [
    "beta=np.matmul(np.matmul(np.linalg.inv(np.matmul(Xpantsocks_1.T, Xpantsocks_1)), Xpantsocks_1.T), Ycost_colmat)\n",
    "print(beta)"
   ]
  },
  {
   "cell_type": "code",
   "execution_count": null,
   "metadata": {},
   "outputs": [],
   "source": []
  }
 ],
 "metadata": {
  "kernelspec": {
   "display_name": "Python 3",
   "language": "python",
   "name": "python3"
  },
  "language_info": {
   "codemirror_mode": {
    "name": "ipython",
    "version": 3
   },
   "file_extension": ".py",
   "mimetype": "text/x-python",
   "name": "python",
   "nbconvert_exporter": "python",
   "pygments_lexer": "ipython3",
   "version": "3.8.3"
  }
 },
 "nbformat": 4,
 "nbformat_minor": 2
}
