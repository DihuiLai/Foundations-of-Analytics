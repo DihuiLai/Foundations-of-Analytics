{
 "cells": [
  {
   "cell_type": "markdown",
   "metadata": {},
   "source": [
    "### New package installation\n",
    "```pip install tensorflow_datasets```\n",
    "\n",
    "```pip install ipywidgets```\n",
    "\n",
    "```pip install nltk```\n",
    "### Reference:\n",
    "https://www.tensorflow.org/tutorials/text/word_embeddings"
   ]
  },
  {
   "cell_type": "markdown",
   "metadata": {},
   "source": [
    "## Neural Network Language Model"
   ]
  },
  {
   "cell_type": "code",
   "execution_count": 1,
   "metadata": {},
   "outputs": [],
   "source": [
    "import numpy as np\n",
    "import tensorflow as tf\n",
    "from tensorflow import keras\n",
    "from tensorflow.keras import layers"
   ]
  },
  {
   "cell_type": "code",
   "execution_count": 2,
   "metadata": {},
   "outputs": [],
   "source": [
    "file = open(\"Data/J. K. Rowling - Harry Potter 1 - Sorcerer's Stone\",'r')\n",
    "raw_data_1 = file.read()\n",
    "file.close()"
   ]
  },
  {
   "cell_type": "code",
   "execution_count": 3,
   "metadata": {},
   "outputs": [],
   "source": [
    "from nltk.tokenize import word_tokenize, wordpunct_tokenize\n",
    "\n",
    "from nltk.corpus import stopwords \n",
    "import nltk \n",
    "#nltk.download('punkt')\n",
    "#nltk.download('stopwords')"
   ]
  },
  {
   "cell_type": "code",
   "execution_count": 4,
   "metadata": {},
   "outputs": [],
   "source": [
    "stop_words = set(stopwords.words('english')) \n",
    "word_tokens = wordpunct_tokenize(raw_data_1)  \n",
    "word_tokens = [w.lower() for w in word_tokens if not w in stop_words] \n",
    "word_tokens = [w.lower() for w in word_tokens if w.isalpha()] "
   ]
  },
  {
   "cell_type": "code",
   "execution_count": 5,
   "metadata": {},
   "outputs": [],
   "source": [
    "vocab = set(word_tokens)\n",
    "char_to_int = dict((c,i) for i,c in enumerate(vocab))\n",
    "int_to_char = dict((i,c) for i,c in enumerate(vocab))"
   ]
  },
  {
   "cell_type": "code",
   "execution_count": 6,
   "metadata": {},
   "outputs": [],
   "source": [
    "X = np.array([], dtype=np.float).reshape(0,4)\n",
    "Y = np.array([])\n",
    "Xwords=[]\n",
    "Ywords=[]\n",
    "window_size = 2\n",
    "for i, word in enumerate(word_tokens):\n",
    "    Xsub=np.zeros(2*window_size)\n",
    "    Xsubwords=[]\n",
    "    isetvalue=0\n",
    "    for icontext in range(max(i-window_size,0), min(i+window_size, len(word_tokens)-1)+1):\n",
    "        if icontext!=i:\n",
    "            Xsub[isetvalue]=char_to_int[word_tokens[icontext]]\n",
    "            Xsubwords.append(word_tokens[icontext])\n",
    "            isetvalue=isetvalue+1\n",
    "    X=np.vstack([X, Xsub])\n",
    "    Xwords.append(Xsubwords)\n",
    "    Y=np.append(Y,char_to_int[word])\n",
    "    Ywords.append(word)"
   ]
  },
  {
   "cell_type": "code",
   "execution_count": 20,
   "metadata": {},
   "outputs": [
    {
     "data": {
      "text/plain": [
       "array([2944.,  361., 3971., 1837.])"
      ]
     },
     "execution_count": 20,
     "metadata": {},
     "output_type": "execute_result"
    }
   ],
   "source": [
    "X[10]"
   ]
  },
  {
   "cell_type": "code",
   "execution_count": 25,
   "metadata": {},
   "outputs": [
    {
     "data": {
      "text/plain": [
       "'dursley'"
      ]
     },
     "execution_count": 25,
     "metadata": {},
     "output_type": "execute_result"
    }
   ],
   "source": [
    "int_to_char[1837]"
   ]
  },
  {
   "cell_type": "code",
   "execution_count": 27,
   "metadata": {},
   "outputs": [],
   "source": [
    "embedding_dim=100\n",
    "vocab_size=len(vocab)\n",
    "cbowNN = keras.Sequential([\n",
    "    layers.Embedding(vocab_size, embedding_dim),\n",
    "    layers.GlobalAveragePooling1D(),\n",
    "    layers.Dense(vocab_size, activation='softmax')\n",
    "])"
   ]
  },
  {
   "cell_type": "code",
   "execution_count": 28,
   "metadata": {},
   "outputs": [],
   "source": [
    "cbowNN.compile(optimizer='adam',\n",
    "              loss='sparse_categorical_crossentropy',\n",
    "              metrics=['accuracy'])"
   ]
  },
  {
   "cell_type": "code",
   "execution_count": 29,
   "metadata": {},
   "outputs": [
    {
     "name": "stdout",
     "output_type": "stream",
     "text": [
      "Train on 45231 samples\n",
      "Epoch 1/10\n",
      "45231/45231 [==============================] - 23s 508us/sample - loss: 7.6950 - accuracy: 0.0284\n",
      "Epoch 2/10\n",
      "45231/45231 [==============================] - 22s 486us/sample - loss: 7.2241 - accuracy: 0.0382\n",
      "Epoch 3/10\n",
      "45231/45231 [==============================] - 22s 488us/sample - loss: 7.0601 - accuracy: 0.0505\n",
      "Epoch 4/10\n",
      "45231/45231 [==============================] - 22s 494us/sample - loss: 6.8748 - accuracy: 0.0597\n",
      "Epoch 5/10\n",
      "45231/45231 [==============================] - 22s 489us/sample - loss: 6.6517 - accuracy: 0.0682\n",
      "Epoch 6/10\n",
      "45231/45231 [==============================] - 23s 501us/sample - loss: 6.3835 - accuracy: 0.0799\n",
      "Epoch 7/10\n",
      "45231/45231 [==============================] - 23s 499us/sample - loss: 6.0820 - accuracy: 0.0934\n",
      "Epoch 8/10\n",
      "45231/45231 [==============================] - 23s 505us/sample - loss: 5.7590 - accuracy: 0.1112\n",
      "Epoch 9/10\n",
      "45231/45231 [==============================] - 23s 509us/sample - loss: 5.4277 - accuracy: 0.1319\n",
      "Epoch 10/10\n",
      "45231/45231 [==============================] - 23s 507us/sample - loss: 5.0960 - accuracy: 0.1533\n"
     ]
    }
   ],
   "source": [
    "history = cbowNN.fit(X, Y,epochs=10)"
   ]
  },
  {
   "cell_type": "code",
   "execution_count": 50,
   "metadata": {},
   "outputs": [
    {
     "data": {
      "text/plain": [
       "(5730, 100)"
      ]
     },
     "execution_count": 50,
     "metadata": {},
     "output_type": "execute_result"
    }
   ],
   "source": [
    "cbowNN.layers[0].get_weights()[0].shape"
   ]
  },
  {
   "cell_type": "code",
   "execution_count": null,
   "metadata": {},
   "outputs": [],
   "source": [
    "cbowNN.layers[0].get_weights()[]"
   ]
  },
  {
   "cell_type": "code",
   "execution_count": 51,
   "metadata": {},
   "outputs": [
    {
     "data": {
      "text/plain": [
       "5390"
      ]
     },
     "execution_count": 51,
     "metadata": {},
     "output_type": "execute_result"
    }
   ],
   "source": [
    "char_to_int[\"harry\"]"
   ]
  },
  {
   "cell_type": "code",
   "execution_count": 60,
   "metadata": {},
   "outputs": [
    {
     "data": {
      "text/plain": [
       "3514"
      ]
     },
     "execution_count": 60,
     "metadata": {},
     "output_type": "execute_result"
    }
   ],
   "source": [
    "char_to_int[\"potter\"]"
   ]
  },
  {
   "cell_type": "code",
   "execution_count": 58,
   "metadata": {},
   "outputs": [
    {
     "data": {
      "text/plain": [
       "array([ 0.36831316, -0.02912644, -0.21903703,  0.6875895 ,  0.8045879 ,\n",
       "       -0.79558593, -0.12857082,  0.09913688, -0.59537804, -0.30346167,\n",
       "        0.55933696, -1.485484  ,  0.29664618,  0.9509776 , -0.72287655,\n",
       "       -0.50011224,  0.2952182 ,  0.24317202,  0.88044626, -0.15706061,\n",
       "       -0.60950226,  0.8858659 ,  0.468372  , -0.05869386, -0.7143432 ,\n",
       "       -0.9341061 ,  0.5548508 , -1.0121855 , -0.36167455,  1.2411246 ,\n",
       "        0.2763438 , -0.06958745, -0.05160766,  0.09539735,  0.7949856 ,\n",
       "       -0.92463213, -1.2130483 ,  0.35378164,  0.8643375 , -0.43106723,\n",
       "        0.41514868, -0.6613449 ,  0.8776589 ,  0.8124357 ,  0.40135014,\n",
       "        0.6651431 , -0.5510709 , -0.38966134,  0.542265  ,  0.30247587,\n",
       "       -0.2986687 , -0.43880197,  0.03767639, -0.49712464,  1.7145205 ,\n",
       "        0.3445807 ,  0.1759958 ,  0.05973768,  0.6984467 , -0.47396457,\n",
       "       -0.10744078, -0.5577389 , -0.45284694,  0.46038765,  0.13582891,\n",
       "        0.6500594 ,  1.1517085 , -0.20004109,  0.03411349, -0.26877782,\n",
       "       -0.7325533 ,  0.63374573, -0.16201326,  0.06449906,  0.40351516,\n",
       "        0.48441976, -0.2140201 ,  0.53492904, -0.45073166, -0.3946392 ,\n",
       "        0.45831203,  0.7531921 ,  0.8080921 , -0.19223885, -0.96172106,\n",
       "        0.534941  ,  0.42318612, -0.25254446,  0.07048366, -0.3428111 ,\n",
       "        0.29997838, -0.20036922, -0.6731719 , -0.46655476,  0.5557476 ,\n",
       "       -0.22369601,  0.52363265, -0.76953214,  0.838182  ,  0.15596941],\n",
       "      dtype=float32)"
      ]
     },
     "execution_count": 58,
     "metadata": {},
     "output_type": "execute_result"
    }
   ],
   "source": [
    "cbowNN.layers[0].get_weights()[0][5390]"
   ]
  },
  {
   "cell_type": "code",
   "execution_count": null,
   "metadata": {},
   "outputs": [],
   "source": [
    "char_to_int[\"potter\"]"
   ]
  },
  {
   "cell_type": "code",
   "execution_count": 59,
   "metadata": {},
   "outputs": [
    {
     "data": {
      "text/plain": [
       "array([ 0.36831316, -0.02912644, -0.21903703,  0.6875895 ,  0.8045879 ,\n",
       "       -0.79558593, -0.12857082,  0.09913688, -0.59537804, -0.30346167,\n",
       "        0.55933696, -1.485484  ,  0.29664618,  0.9509776 , -0.72287655,\n",
       "       -0.50011224,  0.2952182 ,  0.24317202,  0.88044626, -0.15706061,\n",
       "       -0.60950226,  0.8858659 ,  0.468372  , -0.05869386, -0.7143432 ,\n",
       "       -0.9341061 ,  0.5548508 , -1.0121855 , -0.36167455,  1.2411246 ,\n",
       "        0.2763438 , -0.06958745, -0.05160766,  0.09539735,  0.7949856 ,\n",
       "       -0.92463213, -1.2130483 ,  0.35378164,  0.8643375 , -0.43106723,\n",
       "        0.41514868, -0.6613449 ,  0.8776589 ,  0.8124357 ,  0.40135014,\n",
       "        0.6651431 , -0.5510709 , -0.38966134,  0.542265  ,  0.30247587,\n",
       "       -0.2986687 , -0.43880197,  0.03767639, -0.49712464,  1.7145205 ,\n",
       "        0.3445807 ,  0.1759958 ,  0.05973768,  0.6984467 , -0.47396457,\n",
       "       -0.10744078, -0.5577389 , -0.45284694,  0.46038765,  0.13582891,\n",
       "        0.6500594 ,  1.1517085 , -0.20004109,  0.03411349, -0.26877782,\n",
       "       -0.7325533 ,  0.63374573, -0.16201326,  0.06449906,  0.40351516,\n",
       "        0.48441976, -0.2140201 ,  0.53492904, -0.45073166, -0.3946392 ,\n",
       "        0.45831203,  0.7531921 ,  0.8080921 , -0.19223885, -0.96172106,\n",
       "        0.534941  ,  0.42318612, -0.25254446,  0.07048366, -0.3428111 ,\n",
       "        0.29997838, -0.20036922, -0.6731719 , -0.46655476,  0.5557476 ,\n",
       "       -0.22369601,  0.52363265, -0.76953214,  0.838182  ,  0.15596941],\n",
       "      dtype=float32)"
      ]
     },
     "execution_count": 59,
     "metadata": {},
     "output_type": "execute_result"
    }
   ],
   "source": [
    "from numpy.linalg import norm\n",
    "e = cbowNN.layers[0]\n",
    "e(tf.constant(5390)).numpy()"
   ]
  },
  {
   "cell_type": "code",
   "execution_count": 61,
   "metadata": {},
   "outputs": [],
   "source": [
    "wharry=e.get_weights()[0][5390]"
   ]
  },
  {
   "cell_type": "code",
   "execution_count": 62,
   "metadata": {},
   "outputs": [],
   "source": [
    "wpotter=e.get_weights()[0][3514]"
   ]
  },
  {
   "cell_type": "code",
   "execution_count": 63,
   "metadata": {},
   "outputs": [
    {
     "data": {
      "text/plain": [
       "array([[ 1.0000001 , -0.20145974],\n",
       "       [-0.20145974,  0.99999994]], dtype=float32)"
      ]
     },
     "execution_count": 63,
     "metadata": {},
     "output_type": "execute_result"
    }
   ],
   "source": [
    "from sklearn.metrics.pairwise import cosine_similarity\n",
    "\n",
    "# compute pairwise distance matrix\n",
    "cosine_similarity([wharry, wpotter])"
   ]
  },
  {
   "cell_type": "code",
   "execution_count": 64,
   "metadata": {},
   "outputs": [
    {
     "name": "stdout",
     "output_type": "stream",
     "text": [
      "potter\n",
      "drooled\n",
      "felt\n",
      "dodged\n",
      "forehead\n"
     ]
    }
   ],
   "source": [
    "for i in np.argsort(cbowNN.predict(tf.constant([5390]))[0])[::-1][:5]:\n",
    "    print(int_to_char[i])"
   ]
  },
  {
   "cell_type": "code",
   "execution_count": null,
   "metadata": {},
   "outputs": [],
   "source": []
  }
 ],
 "metadata": {
  "kernelspec": {
   "display_name": "Python 3",
   "language": "python",
   "name": "python3"
  },
  "language_info": {
   "codemirror_mode": {
    "name": "ipython",
    "version": 3
   },
   "file_extension": ".py",
   "mimetype": "text/x-python",
   "name": "python",
   "nbconvert_exporter": "python",
   "pygments_lexer": "ipython3",
   "version": "3.7.4"
  }
 },
 "nbformat": 4,
 "nbformat_minor": 2
}
