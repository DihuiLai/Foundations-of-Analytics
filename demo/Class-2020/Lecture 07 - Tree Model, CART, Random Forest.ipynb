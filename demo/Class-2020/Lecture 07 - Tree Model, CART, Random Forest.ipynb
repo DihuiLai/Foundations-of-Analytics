{
 "cells": [
  {
   "cell_type": "markdown",
   "metadata": {},
   "source": [
    "## Lecture 07 - Tree Model, CART, Random Forest"
   ]
  },
  {
   "cell_type": "markdown",
   "metadata": {},
   "source": [
    "### Install packages \n",
    "```pip install pydotplus```\n",
    "\n",
    "```pip install graphviz```\n",
    "\n",
    "#### Mac Command line\n",
    "``` brew install graphviz```\n",
    "\n",
    "#### For windows\n",
    "\n",
    "Install windows package from: https://graphviz.gitlab.io/_pages/Download/Download_windows.html\n",
    "\n",
    "Install python graphviz package\n",
    "\n",
    "Add C:\\Program Files (x86)\\Graphviz2.38\\bin to User path\n",
    "\n",
    "Add C:\\Program Files (x86)\\Graphviz2.38\\bin\\dot.exe to System Path\n"
   ]
  },
  {
   "cell_type": "code",
   "execution_count": null,
   "metadata": {},
   "outputs": [],
   "source": [
    "import pandas as pd\n",
    "from sklearn import tree\n",
    "from IPython.display import Image\n",
    "from sklearn.tree import export_graphviz\n",
    "import pydotplus\n",
    "import graphviz\n",
    "import numpy as np"
   ]
  },
  {
   "cell_type": "markdown",
   "metadata": {},
   "source": [
    "### 1. Data Preprocessing"
   ]
  },
  {
   "cell_type": "markdown",
   "metadata": {},
   "source": [
    "### 1.1 Load Data"
   ]
  },
  {
   "cell_type": "code",
   "execution_count": null,
   "metadata": {},
   "outputs": [],
   "source": [
    "car = pd.read_csv(\"Data/car.data\", header=None)"
   ]
  },
  {
   "cell_type": "code",
   "execution_count": null,
   "metadata": {},
   "outputs": [],
   "source": [
    "car"
   ]
  },
  {
   "cell_type": "code",
   "execution_count": null,
   "metadata": {},
   "outputs": [],
   "source": [
    "car.columns=[\"buying\", \"maint\", \"doors\", \"persons\", \"lug_root\", \"safty\", \"class\"] #Rename the columns"
   ]
  },
  {
   "cell_type": "code",
   "execution_count": null,
   "metadata": {},
   "outputs": [],
   "source": [
    "car.head(10)"
   ]
  },
  {
   "cell_type": "code",
   "execution_count": null,
   "metadata": {},
   "outputs": [],
   "source": [
    "X=car[[\"buying\", \"maint\", \"doors\", \"persons\", \"lug_root\", \"safty\"]]\n",
    "y=car[\"class\"]"
   ]
  },
  {
   "cell_type": "code",
   "execution_count": null,
   "metadata": {},
   "outputs": [],
   "source": [
    "y.unique()"
   ]
  },
  {
   "cell_type": "code",
   "execution_count": null,
   "metadata": {},
   "outputs": [],
   "source": [
    "ybin=y.copy()\n",
    "ybin.loc[ybin!= \"unacc\"] = \"acc\" "
   ]
  },
  {
   "cell_type": "code",
   "execution_count": null,
   "metadata": {},
   "outputs": [],
   "source": [
    "ybin.unique()"
   ]
  },
  {
   "cell_type": "code",
   "execution_count": null,
   "metadata": {},
   "outputs": [],
   "source": [
    "ysimp=pd.get_dummies(ybin)['acc']"
   ]
  },
  {
   "cell_type": "code",
   "execution_count": null,
   "metadata": {},
   "outputs": [],
   "source": [
    "ysimp"
   ]
  },
  {
   "cell_type": "markdown",
   "metadata": {},
   "source": [
    "### 1.2 One-hot encoding"
   ]
  },
  {
   "cell_type": "code",
   "execution_count": null,
   "metadata": {},
   "outputs": [],
   "source": [
    "buying_1hot = pd.get_dummies(X['buying'], prefix = 'buying')"
   ]
  },
  {
   "cell_type": "code",
   "execution_count": null,
   "metadata": {},
   "outputs": [],
   "source": [
    "np.unique(X['buying'])"
   ]
  },
  {
   "cell_type": "code",
   "execution_count": null,
   "metadata": {},
   "outputs": [],
   "source": [
    "buying_1hot"
   ]
  },
  {
   "cell_type": "code",
   "execution_count": null,
   "metadata": {},
   "outputs": [],
   "source": [
    "maint_1hot = pd.get_dummies(X['maint'], prefix = 'maint')\n",
    "doors_1hot = pd.get_dummies(X['doors'], prefix = 'doors')\n",
    "persons_1hot = pd.get_dummies(X['persons'], prefix = 'persons')\n",
    "lug_root_1hot = pd.get_dummies(X['lug_root'], prefix = 'lug_root')\n",
    "safty_1hot = pd.get_dummies(X['safty'], prefix = 'safty')"
   ]
  },
  {
   "cell_type": "code",
   "execution_count": null,
   "metadata": {},
   "outputs": [],
   "source": [
    "X1hot=pd.concat([safty_1hot, maint_1hot, buying_1hot, doors_1hot, persons_1hot, lug_root_1hot], axis=1)\n",
    "X1hot.head(10)"
   ]
  },
  {
   "cell_type": "code",
   "execution_count": null,
   "metadata": {},
   "outputs": [],
   "source": [
    "X1hot.shape"
   ]
  },
  {
   "cell_type": "code",
   "execution_count": null,
   "metadata": {},
   "outputs": [],
   "source": [
    "X.shape"
   ]
  },
  {
   "cell_type": "markdown",
   "metadata": {},
   "source": [
    "### 2.Build a Single Tree"
   ]
  },
  {
   "cell_type": "code",
   "execution_count": 82,
   "metadata": {},
   "outputs": [],
   "source": [
    "clf = tree.DecisionTreeClassifier(criterion=\"entropy\", max_depth=3, min_samples_leaf=100)\n",
    "# Train Decision Tree Classifer\n",
    "clf = clf.fit(X1hot, ybin)"
   ]
  },
  {
   "cell_type": "code",
   "execution_count": 83,
   "metadata": {},
   "outputs": [
    {
     "data": {
      "text/plain": [
       "[Text(223.20000000000002, 190.26, 'X[15] <= 0.5\\nentropy = 0.881\\nsamples = 1728\\nvalue = [518, 1210]'),\n",
       " Text(167.4, 135.9, 'X[1] <= 0.5\\nentropy = 0.993\\nsamples = 1152\\nvalue = [518, 634]'),\n",
       " Text(111.60000000000001, 81.53999999999999, 'X[6] <= 0.5\\nentropy = 0.91\\nsamples = 768\\nvalue = [518, 250]'),\n",
       " Text(55.800000000000004, 27.180000000000007, 'entropy = 0.77\\nsamples = 576\\nvalue = [446, 130]'),\n",
       " Text(167.4, 27.180000000000007, 'entropy = 0.954\\nsamples = 192\\nvalue = [72, 120]'),\n",
       " Text(223.20000000000002, 81.53999999999999, 'entropy = 0.0\\nsamples = 384\\nvalue = [0, 384]'),\n",
       " Text(279.0, 135.9, 'entropy = 0.0\\nsamples = 576\\nvalue = [0, 576]')]"
      ]
     },
     "execution_count": 83,
     "metadata": {},
     "output_type": "execute_result"
    },
    {
     "data": {
      "image/png": "[encoded data removed]",
      "text/plain": [
       "<Figure size 432x288 with 1 Axes>"
      ]
     },
     "metadata": {
      "needs_background": "light"
     },
     "output_type": "display_data"
    }
   ],
   "source": [
    "tree.plot_tree(clf)"
   ]
  },
  {
   "cell_type": "code",
   "execution_count": 74,
   "metadata": {},
   "outputs": [
    {
     "data": {
      "text/plain": [
       "'persons_2'"
      ]
     },
     "execution_count": 74,
     "metadata": {},
     "output_type": "execute_result"
    }
   ],
   "source": [
    "X1hot.columns[15]"
   ]
  },
  {
   "cell_type": "code",
   "execution_count": 70,
   "metadata": {},
   "outputs": [
    {
     "data": {
      "text/plain": [
       "0.4496527777777778"
      ]
     },
     "execution_count": 70,
     "metadata": {},
     "output_type": "execute_result"
    }
   ],
   "source": [
    "518/1152"
   ]
  },
  {
   "cell_type": "code",
   "execution_count": 71,
   "metadata": {},
   "outputs": [
    {
     "data": {
      "text/plain": [
       "array([0.        , 0.44965278])"
      ]
     },
     "execution_count": 71,
     "metadata": {},
     "output_type": "execute_result"
    }
   ],
   "source": [
    "np.unique(clf.predict_proba(X1hot)[:, 0])"
   ]
  },
  {
   "cell_type": "markdown",
   "metadata": {},
   "source": [
    "### 3. Build From Scratch: Checking the First Split"
   ]
  },
  {
   "cell_type": "markdown",
   "metadata": {},
   "source": [
    "### $H= \\sum\\limits_{i=1}^c p_i log(p_i)$"
   ]
  },
  {
   "cell_type": "code",
   "execution_count": null,
   "metadata": {},
   "outputs": [],
   "source": [
    "def entropy(y): #Define Function to Calculate Entropy\n",
    "    p1 = float(y.sum())/float(len(y))+1e-20\n",
    "    return -(p1*np.log2(p1)+(1-p1)*np.log2(1-p1))"
   ]
  },
  {
   "cell_type": "code",
   "execution_count": null,
   "metadata": {},
   "outputs": [],
   "source": [
    "entropy(ysimp) #entropy at the parent node"
   ]
  },
  {
   "cell_type": "code",
   "execution_count": null,
   "metadata": {},
   "outputs": [],
   "source": [
    "def Dentropy(data, y, splitter):  #Entropy Change after Splits\n",
    "    yleft=y[data[splitter]<0.5]   #filter out the data points that goes to left\n",
    "    yright=y[data[splitter]>=0.5] #filter the data points that goes to right\n",
    "    H2=(len(yleft)*entropy(yleft)+len(yright)*entropy(yright))/float(len(yleft)+len(yright)) #Average Entropy after split\n",
    "    H1=entropy(y) #Entropy before splits\n",
    "    dH= H1-H2\n",
    "    return (dH, entropy(yleft), entropy(yright))"
   ]
  },
  {
   "cell_type": "code",
   "execution_count": 67,
   "metadata": {},
   "outputs": [
    {
     "data": {
      "text/plain": [
       "(0.2192253676327236, 0.9926735794544486, 6.643856189774724e-19)"
      ]
     },
     "execution_count": 67,
     "metadata": {},
     "output_type": "execute_result"
    }
   ],
   "source": [
    "Dentropy(X1hot, ysimp, 'safty_low')"
   ]
  },
  {
   "cell_type": "code",
   "execution_count": 66,
   "metadata": {},
   "outputs": [
    {
     "name": "stdout",
     "output_type": "stream",
     "text": [
      "safty_high: (0.08023239852243158, 0.7016893176251701, 0.998947430989433)\n",
      "safty_low: (0.2192253676327236, 0.9926735794544486, 6.643856189774724e-19)\n",
      "safty_med: (0.010901773506560186, 0.8260644563036537, 0.9581890286800804)\n",
      "maint_high: (0.0008215712835362154, 0.8915996278279094, 0.8459458471248849)\n",
      "maint_low: (0.00710336330581629, 0.8459458471248849, 0.9577800211448371)\n",
      "maint_med: (0.00710336330581629, 0.8459458471248849, 0.9577800211448371)\n",
      "maint_vhigh: (0.021961018892401096, 0.928721506174933, 0.6500224216483541)\n",
      "buying_high: (0.002905558653374607, 0.9003768855567087, 0.8112781244591328)\n",
      "buying_low: (0.0117446646940631, 0.8348333467992206, 0.972552316568843)\n",
      "buying_med: (0.00710336330581629, 0.8459458471248849, 0.9577800211448371)\n",
      "buying_vhigh: (0.021961018892401096, 0.928721506174933, 0.6500224216483541)\n",
      "doors_2: (0.00347998859509302, 0.9020845092877795, 0.8038575334990463)\n",
      "doors_3: (3.826987595578757e-05, 0.8786338722412663, 0.8879763195151349)\n",
      "doors_4: (0.000670161633379851, 0.8708644692353646, 0.9087569615031437)\n",
      "doors_5more: (0.000670161633379851, 0.8708644692353646, 0.9087569615031437)\n",
      "persons_2: (0.2192253676327236, 0.9926735794544486, 6.643856189774724e-19)\n",
      "persons_4: (0.0419767213784078, 0.7610541347429374, 0.99498482818597)\n",
      "persons_more: (0.033329559219397065, 0.77655578544446, 0.9899230132599568)\n",
      "lug_root_big: (0.006363062134144948, 0.8401662220526256, 0.943601631299382)\n",
      "lug_root_med: (0.0006613088824602986, 0.8686315234625519, 0.9037762882345832)\n",
      "lug_root_small: (0.011658752281188178, 0.9250842712125538, 0.7578784625383954)\n"
     ]
    }
   ],
   "source": [
    "feature_cols=list(X1hot.columns)\n",
    "for i in feature_cols: # Try different variables at the first split\n",
    "    print(i+\": \"+str(Dentropy(X1hot, ysimp, i)))"
   ]
  },
  {
   "cell_type": "markdown",
   "metadata": {},
   "source": [
    "### 4. Random Forest to Predict House Price"
   ]
  },
  {
   "cell_type": "code",
   "execution_count": 85,
   "metadata": {},
   "outputs": [],
   "source": [
    "from sklearn.ensemble import RandomForestRegressor"
   ]
  },
  {
   "cell_type": "code",
   "execution_count": 90,
   "metadata": {},
   "outputs": [],
   "source": [
    "houseprice = pd.read_csv('Data/housetrain.csv')"
   ]
  },
  {
   "cell_type": "code",
   "execution_count": 91,
   "metadata": {},
   "outputs": [
    {
     "data": {
      "text/plain": [
       "(1460, 81)"
      ]
     },
     "execution_count": 91,
     "metadata": {},
     "output_type": "execute_result"
    }
   ],
   "source": [
    "houseprice.shape"
   ]
  },
  {
   "cell_type": "code",
   "execution_count": 92,
   "metadata": {},
   "outputs": [
    {
     "data": {
      "text/plain": [
       "Index(['Id', 'MSSubClass', 'MSZoning', 'LotFrontage', 'LotArea', 'Street',\n",
       "       'Alley', 'LotShape', 'LandContour', 'Utilities', 'LotConfig',\n",
       "       'LandSlope', 'Neighborhood', 'Condition1', 'Condition2', 'BldgType',\n",
       "       'HouseStyle', 'OverallQual', 'OverallCond', 'YearBuilt', 'YearRemodAdd',\n",
       "       'RoofStyle', 'RoofMatl', 'Exterior1st', 'Exterior2nd', 'MasVnrType',\n",
       "       'MasVnrArea', 'ExterQual', 'ExterCond', 'Foundation', 'BsmtQual',\n",
       "       'BsmtCond', 'BsmtExposure', 'BsmtFinType1', 'BsmtFinSF1',\n",
       "       'BsmtFinType2', 'BsmtFinSF2', 'BsmtUnfSF', 'TotalBsmtSF', 'Heating',\n",
       "       'HeatingQC', 'CentralAir', 'Electrical', '1stFlrSF', '2ndFlrSF',\n",
       "       'LowQualFinSF', 'GrLivArea', 'BsmtFullBath', 'BsmtHalfBath', 'FullBath',\n",
       "       'HalfBath', 'BedroomAbvGr', 'KitchenAbvGr', 'KitchenQual',\n",
       "       'TotRmsAbvGrd', 'Functional', 'Fireplaces', 'FireplaceQu', 'GarageType',\n",
       "       'GarageYrBlt', 'GarageFinish', 'GarageCars', 'GarageArea', 'GarageQual',\n",
       "       'GarageCond', 'PavedDrive', 'WoodDeckSF', 'OpenPorchSF',\n",
       "       'EnclosedPorch', '3SsnPorch', 'ScreenPorch', 'PoolArea', 'PoolQC',\n",
       "       'Fence', 'MiscFeature', 'MiscVal', 'MoSold', 'YrSold', 'SaleType',\n",
       "       'SaleCondition', 'SalePrice'],\n",
       "      dtype='object')"
      ]
     },
     "execution_count": 92,
     "metadata": {},
     "output_type": "execute_result"
    }
   ],
   "source": [
    "houseprice.columns"
   ]
  },
  {
   "cell_type": "code",
   "execution_count": 93,
   "metadata": {},
   "outputs": [],
   "source": [
    "y = houseprice['SalePrice']\n",
    "predictor_cols = ['LotArea', 'OverallQual', 'OverallCond', 'YearBuilt']\n",
    "\n",
    "# Create training predictors data\n",
    "train_X = houseprice[predictor_cols]"
   ]
  },
  {
   "cell_type": "markdown",
   "metadata": {},
   "source": [
    "### 4.1 In Sample Model"
   ]
  },
  {
   "cell_type": "code",
   "execution_count": 121,
   "metadata": {},
   "outputs": [],
   "source": [
    "rf = RandomForestRegressor(n_estimators = 1000, max_features=\"sqrt\", max_samples=0.8, max_depth=None, random_state = 42)\n",
    "# Train the model on training data\n",
    "rf.fit(train_X, y);"
   ]
  },
  {
   "cell_type": "code",
   "execution_count": null,
   "metadata": {},
   "outputs": [],
   "source": [
    "tree.plot_tree(rf.estimators_[0])"
   ]
  },
  {
   "cell_type": "code",
   "execution_count": null,
   "metadata": {},
   "outputs": [],
   "source": [
    "tree.plot_tree(rf.estimators_[1])"
   ]
  },
  {
   "cell_type": "code",
   "execution_count": null,
   "metadata": {},
   "outputs": [],
   "source": [
    "rf.feature_importances_"
   ]
  },
  {
   "cell_type": "code",
   "execution_count": 122,
   "metadata": {},
   "outputs": [],
   "source": [
    "houseprice['ypred']=rf.predict(train_X)"
   ]
  },
  {
   "cell_type": "code",
   "execution_count": 123,
   "metadata": {},
   "outputs": [
    {
     "name": "stdout",
     "output_type": "stream",
     "text": [
      "676598.1561598771\n"
     ]
    }
   ],
   "source": [
    "error=np.sqrt(np.dot((y-houseprice['ypred']), (y-houseprice['ypred'])))\n",
    "print(error)"
   ]
  },
  {
   "cell_type": "code",
   "execution_count": null,
   "metadata": {},
   "outputs": [],
   "source": [
    "690408.9684587391"
   ]
  },
  {
   "cell_type": "code",
   "execution_count": 120,
   "metadata": {},
   "outputs": [
    {
     "data": {
      "image/png": "[encoded data removed]",
      "text/plain": [
       "<Figure size 720x360 with 1 Axes>"
      ]
     },
     "metadata": {
      "needs_background": "light"
     },
     "output_type": "display_data"
    }
   ],
   "source": [
    "import matplotlib.pyplot as plt\n",
    "houseprice.plot(x='OverallQual', y=['SalePrice', 'ypred'], figsize=(10,5), grid=True, style=['o','rx'])\n",
    "plt.title('SalePrice scatter')\n",
    "plt.show()"
   ]
  },
  {
   "cell_type": "markdown",
   "metadata": {},
   "source": [
    "### 4.2 Cross Validation "
   ]
  },
  {
   "cell_type": "code",
   "execution_count": 124,
   "metadata": {},
   "outputs": [],
   "source": [
    "from sklearn.model_selection import KFold\n",
    "from sklearn.utils import shuffle\n",
    "kf = KFold(n_splits=10)\n",
    "houseprice_shuffle=shuffle(houseprice)\n",
    "\n",
    "y_shuffle = houseprice_shuffle['SalePrice']\n",
    "predictor_cols = ['LotArea', 'OverallQual', 'OverallCond', 'YearBuilt']\n",
    "# Create training predictors data\n",
    "train_X_shuffle = houseprice_shuffle[predictor_cols]"
   ]
  },
  {
   "cell_type": "code",
   "execution_count": 134,
   "metadata": {},
   "outputs": [],
   "source": [
    "errorls=[]\n",
    "for ntrees in [10, 50, 100, 500, 1000]:\n",
    "    y_pred_cv= np.empty((0, 1))\n",
    "    rf = RandomForestRegressor(n_estimators = ntrees, max_features=\"sqrt\", max_samples=0.8, max_depth=None)\n",
    "    for train, test in kf.split(train_X_shuffle):\n",
    "        rf_modelcv=rf.fit(train_X_shuffle.iloc[train], y_shuffle.iloc[train]);\n",
    "        y_pred_cv=np.append(y_pred_cv,rf_modelcv.predict(train_X_shuffle.iloc[test]))\n",
    "    errorls.append(np.sqrt(np.dot(y_pred_cv-y_shuffle, y_pred_cv-y_shuffle)/len(y_shuffle)))"
   ]
  },
  {
   "cell_type": "code",
   "execution_count": null,
   "metadata": {},
   "outputs": [],
   "source": [
    "houseprice_shuffle['y_pred_cv']=y_pred_cv\n",
    "houseprice_shuffle['residual']=houseprice_shuffle['y_pred_cv']-houseprice_shuffle['SalePrice']"
   ]
  },
  {
   "cell_type": "code",
   "execution_count": null,
   "metadata": {},
   "outputs": [],
   "source": [
    "houseprice_shuffle.plot(x='OverallQual', y=['residual'], figsize=(10,5), grid=True, style=['o','rx'])\n",
    "plt.title('SalePrice scatter')\n",
    "plt.show()"
   ]
  },
  {
   "cell_type": "code",
   "execution_count": 136,
   "metadata": {},
   "outputs": [
    {
     "data": {
      "image/png": "[encoded data removed]",
      "text/plain": [
       "<Figure size 432x288 with 1 Axes>"
      ]
     },
     "metadata": {
      "needs_background": "light"
     },
     "output_type": "display_data"
    }
   ],
   "source": [
    "plt.plot(errorls)\n",
    "plt.show()"
   ]
  },
  {
   "cell_type": "code",
   "execution_count": null,
   "metadata": {},
   "outputs": [],
   "source": []
  }
 ],
 "metadata": {
  "kernelspec": {
   "display_name": "Python 3",
   "language": "python",
   "name": "python3"
  },
  "language_info": {
   "codemirror_mode": {
    "name": "ipython",
    "version": 3
   },
   "file_extension": ".py",
   "mimetype": "text/x-python",
   "name": "python",
   "nbconvert_exporter": "python",
   "pygments_lexer": "ipython3",
   "version": "3.8.3"
  }
 },
 "nbformat": 4,
 "nbformat_minor": 2
}
