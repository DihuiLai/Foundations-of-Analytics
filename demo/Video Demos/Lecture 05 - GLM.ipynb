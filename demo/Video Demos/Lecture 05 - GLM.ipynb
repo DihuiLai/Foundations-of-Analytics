{
 "cells": [
  {
   "cell_type": "markdown",
   "metadata": {},
   "source": [
    "## Lecture 04 - Generalized Linear Model"
   ]
  },
  {
   "cell_type": "code",
   "execution_count": null,
   "metadata": {},
   "outputs": [],
   "source": [
    "import numpy as np\n",
    "from sklearn.linear_model import LinearRegression\n",
    "import pandas as pd\n",
    "import statsmodels.api as sm"
   ]
  },
  {
   "cell_type": "markdown",
   "metadata": {},
   "source": [
    "\n",
    "## Generalized Linear Model: Gaussian Distribution\n",
    "### Data Synthesize"
   ]
  },
  {
   "cell_type": "code",
   "execution_count": null,
   "metadata": {},
   "outputs": [],
   "source": [
    "X=np.random.randn(5000,3)\n",
    "Y=.3*X[:,[0]]+X[:,[1]]+2*X[:,[2]]+2+np.random.randn(5000,1)"
   ]
  },
  {
   "cell_type": "code",
   "execution_count": null,
   "metadata": {},
   "outputs": [],
   "source": [
    "X.shape"
   ]
  },
  {
   "cell_type": "code",
   "execution_count": null,
   "metadata": {},
   "outputs": [],
   "source": [
    "Y"
   ]
  },
  {
   "cell_type": "markdown",
   "metadata": {},
   "source": [
    "### Build GLM in statsmodel\n",
    "\n",
    "##### Understanding p-value\n",
    "- A p-value less than 0.05 (typically ≤ 0.05) is statistically significant\n",
    "- A p-value higher than 0.05 (> 0.05) is not statistically significant "
   ]
  },
  {
   "cell_type": "code",
   "execution_count": 29,
   "metadata": {},
   "outputs": [],
   "source": [
    "X_pd=pd.DataFrame(X)\n",
    "X_pd = sm.add_constant(X_pd) # Create the matrix that will lead to beta0 coefficient\n",
    "Y_pd=pd.DataFrame(Y)"
   ]
  },
  {
   "cell_type": "code",
   "execution_count": 30,
   "metadata": {},
   "outputs": [],
   "source": [
    "# Instantiate a gaussian family model with the default link function.\n",
    "gaussian_model = sm.GLM(Y_pd, X_pd, family=sm.families.Gaussian())\n",
    "gaussian_model_results = gaussian_model.fit()"
   ]
  },
  {
   "cell_type": "code",
   "execution_count": 31,
   "metadata": {},
   "outputs": [
    {
     "name": "stdout",
     "output_type": "stream",
     "text": [
      "                 Generalized Linear Model Regression Results                  \n",
      "==============================================================================\n",
      "Dep. Variable:                      0   No. Observations:                 5000\n",
      "Model:                            GLM   Df Residuals:                     4996\n",
      "Model Family:                Gaussian   Df Model:                            3\n",
      "Link Function:               identity   Scale:                          1.0185\n",
      "Method:                          IRLS   Log-Likelihood:                -7138.4\n",
      "Date:                Sun, 09 Aug 2020   Deviance:                       5088.2\n",
      "Time:                        16:10:50   Pearson chi2:                 5.09e+03\n",
      "No. Iterations:                     3                                         \n",
      "Covariance Type:            nonrobust                                         \n",
      "==============================================================================\n",
      "                 coef    std err          z      P>|z|      [0.025      0.975]\n",
      "------------------------------------------------------------------------------\n",
      "const          2.0150      0.014    141.178      0.000       1.987       2.043\n",
      "0              0.2945      0.014     20.528      0.000       0.266       0.323\n",
      "1              0.9721      0.014     68.859      0.000       0.944       1.000\n",
      "2              2.0069      0.014    139.274      0.000       1.979       2.035\n",
      "==============================================================================\n"
     ]
    }
   ],
   "source": [
    "print(gaussian_model_results.summary())"
   ]
  },
  {
   "cell_type": "markdown",
   "metadata": {},
   "source": [
    "### Compare with LR in sklearn"
   ]
  },
  {
   "cell_type": "code",
   "execution_count": 32,
   "metadata": {},
   "outputs": [
    {
     "name": "stdout",
     "output_type": "stream",
     "text": [
      "[array([[0.29449822, 0.97206461, 2.00689848]]), array([2.01502453])]\n"
     ]
    }
   ],
   "source": [
    "from sklearn.linear_model import LinearRegression\n",
    "reg=LinearRegression().fit(X, Y)\n",
    "print([reg.coef_, reg.intercept_])"
   ]
  },
  {
   "cell_type": "markdown",
   "metadata": {},
   "source": [
    "## Generalized Linear Model: Binomial Distribution\n"
   ]
  },
  {
   "cell_type": "markdown",
   "metadata": {},
   "source": [
    "### Data Synthesize"
   ]
  },
  {
   "cell_type": "code",
   "execution_count": 33,
   "metadata": {},
   "outputs": [],
   "source": [
    "X1 = 2*np.random.randn(5000, 1)\n",
    "X2 = 5*np.random.randn(5000, 1)\n",
    "X3 = np.random.randn(5000, 1)\n",
    "eta=0.5*X1+0.1*X2+1.56*X3-1\n",
    "X=np.column_stack([X1,X2, X3])\n",
    "p=1/(1+np.exp(-eta))\n",
    "y=np.random.binomial(1, p).reshape(5000,1)"
   ]
  },
  {
   "cell_type": "code",
   "execution_count": 38,
   "metadata": {},
   "outputs": [],
   "source": [
    "## X_pd=pd.DataFrame(X)\n",
    "X_pd = pd.DataFrame(X)\n",
    "X_pd = sm.add_constant(X_pd) # Create the [X,1] matrix\n",
    "Y_pd = pd.DataFrame(y)"
   ]
  },
  {
   "cell_type": "markdown",
   "metadata": {},
   "source": [
    "### Build GLM in statsmodel"
   ]
  },
  {
   "cell_type": "code",
   "execution_count": 41,
   "metadata": {},
   "outputs": [],
   "source": [
    "# Instantiate a gaussian family model with the default link function.\n",
    "binomial_model = sm.GLM(Y_pd, X_pd, family=sm.families.Binomial())\n",
    "binomial_model_results = binomial_model.fit()"
   ]
  },
  {
   "cell_type": "code",
   "execution_count": 43,
   "metadata": {},
   "outputs": [
    {
     "name": "stdout",
     "output_type": "stream",
     "text": [
      "                 Generalized Linear Model Regression Results                  \n",
      "==============================================================================\n",
      "Dep. Variable:                      0   No. Observations:                 5000\n",
      "Model:                            GLM   Df Residuals:                     4996\n",
      "Model Family:                Binomial   Df Model:                            3\n",
      "Link Function:                  logit   Scale:                          1.0000\n",
      "Method:                          IRLS   Log-Likelihood:                -2243.4\n",
      "Date:                Sun, 09 Aug 2020   Deviance:                       4486.7\n",
      "Time:                        16:18:45   Pearson chi2:                 5.24e+03\n",
      "No. Iterations:                     6                                         \n",
      "Covariance Type:            nonrobust                                         \n",
      "==============================================================================\n",
      "                 coef    std err          z      P>|z|      [0.025      0.975]\n",
      "------------------------------------------------------------------------------\n",
      "const         -0.9606      0.041    -23.589      0.000      -1.040      -0.881\n",
      "0              0.5106      0.022     23.017      0.000       0.467       0.554\n",
      "1              0.0963      0.008     12.565      0.000       0.081       0.111\n",
      "2              1.5897      0.052     30.732      0.000       1.488       1.691\n",
      "==============================================================================\n"
     ]
    }
   ],
   "source": [
    "print(binomial_model_results.summary())"
   ]
  },
  {
   "cell_type": "markdown",
   "metadata": {},
   "source": [
    "### Compare with logistic regression using sklearn"
   ]
  },
  {
   "cell_type": "code",
   "execution_count": 44,
   "metadata": {},
   "outputs": [
    {
     "name": "stderr",
     "output_type": "stream",
     "text": [
      "/Users/dlai/Projects/Foundations_of_Analytics/venv/lib/python3.8/site-packages/sklearn/utils/validation.py:73: DataConversionWarning: A column-vector y was passed when a 1d array was expected. Please change the shape of y to (n_samples, ), for example using ravel().\n",
      "  return f(**kwargs)\n"
     ]
    },
    {
     "data": {
      "text/plain": [
       "LogisticRegression(penalty='none', solver='newton-cg')"
      ]
     },
     "execution_count": 44,
     "metadata": {},
     "output_type": "execute_result"
    }
   ],
   "source": [
    "from sklearn.linear_model import LogisticRegression\n",
    "lr=LogisticRegression(penalty='none', solver='newton-cg')\n",
    "lr.fit(X,y)"
   ]
  },
  {
   "cell_type": "code",
   "execution_count": 45,
   "metadata": {},
   "outputs": [
    {
     "name": "stdout",
     "output_type": "stream",
     "text": [
      "[[0.51062385 0.09632258 1.58968119]] [-0.96056832]\n"
     ]
    }
   ],
   "source": [
    "print(lr.coef_, lr.intercept_)"
   ]
  },
  {
   "cell_type": "code",
   "execution_count": null,
   "metadata": {},
   "outputs": [],
   "source": []
  }
 ],
 "metadata": {
  "kernelspec": {
   "display_name": "Python 3",
   "language": "python",
   "name": "python3"
  },
  "language_info": {
   "codemirror_mode": {
    "name": "ipython",
    "version": 3
   },
   "file_extension": ".py",
   "mimetype": "text/x-python",
   "name": "python",
   "nbconvert_exporter": "python",
   "pygments_lexer": "ipython3",
   "version": "3.8.3"
  }
 },
 "nbformat": 4,
 "nbformat_minor": 2
}
