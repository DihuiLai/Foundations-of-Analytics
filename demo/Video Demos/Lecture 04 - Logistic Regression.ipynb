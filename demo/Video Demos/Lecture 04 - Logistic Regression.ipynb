{
 "cells": [
  {
   "cell_type": "markdown",
   "metadata": {},
   "source": [
    "# Lecture 04 - Logistic Regression"
   ]
  },
  {
   "cell_type": "code",
   "execution_count": null,
   "metadata": {},
   "outputs": [],
   "source": [
    "import numpy as np\n",
    "import matplotlib.pyplot as plt"
   ]
  },
  {
   "cell_type": "markdown",
   "metadata": {},
   "source": [
    "### Logistic Regression\n",
    "#### Likelihood \n",
    "\\begin{equation}\n",
    "\\ell=\\log(L)={\\sum_{i=1}^{n}y^i\\log(p_i)+(1-y^i)\\log(1-p_i)}\n",
    "\\end{equation}\n",
    "\n",
    "#### Parameter model\n",
    "\\begin{equation}\n",
    "p_i=\\frac{1}{1+\\exp\\left(-(\\beta_0+\\beta_1x_1^i+\\beta_2 x_2^i+...\\beta_m x_m^i)\\right)}\n",
    "\\end{equation}"
   ]
  },
  {
   "cell_type": "markdown",
   "metadata": {},
   "source": [
    "### Synthesized Data  "
   ]
  },
  {
   "cell_type": "code",
   "execution_count": null,
   "metadata": {},
   "outputs": [],
   "source": [
    "X1 = 2*np.random.randn(5000, 1)\n",
    "X2 = 5*np.random.randn(5000, 1)\n",
    "X3 = np.random.randn(5000, 1)\n",
    "\n",
    "# p is calculated from predictors\n",
    "eta=0.5*X1+0.1*X2+1.56*X3-1\n",
    "X=np.column_stack([X1,X2, X3])\n",
    "p=1/(1+np.exp(-eta))\n",
    "\n",
    "y=np.random.binomial(1, p).reshape(5000,1)"
   ]
  },
  {
   "cell_type": "code",
   "execution_count": null,
   "metadata": {},
   "outputs": [],
   "source": [
    "np.unique(y)"
   ]
  },
  {
   "cell_type": "code",
   "execution_count": null,
   "metadata": {},
   "outputs": [],
   "source": [
    "plt.scatter(X[:,1], y)\n",
    "plt.title('Scatter plot')\n",
    "plt.xlabel('X2')\n",
    "plt.ylabel('Label')\n",
    "plt.show()"
   ]
  },
  {
   "cell_type": "markdown",
   "metadata": {},
   "source": [
    "### Logistic Regression from Scratch"
   ]
  },
  {
   "cell_type": "markdown",
   "metadata": {},
   "source": [
    "#### Hessian Matrix:\n",
    "\\begin{align*}\n",
    "{{H}}={-X^TWX}, {W}=  \n",
    "\\begin{bmatrix}\n",
    "   {p_1 (1-p_1)} & & \\\\\n",
    "    & \\ddots & \\\\\n",
    "    & & {p_n (1-p_n)}\n",
    "  \\end{bmatrix}\n",
    "\\end{align*}"
   ]
  },
  {
   "cell_type": "markdown",
   "metadata": {},
   "source": [
    "#### Iteratively Re-Weighted Least Squares\n",
    "\\begin{align*}\n",
    "{\\vec{\\beta}^{(k+1)}} &\\leftarrow {\\vec{\\beta}^{(k)}+({X}^T{W}{X})^{-1}{X}^T({y}-{p})}\n",
    "\\end{align*}"
   ]
  },
  {
   "cell_type": "code",
   "execution_count": null,
   "metadata": {},
   "outputs": [],
   "source": [
    "beta = np.array([0.2, 0.1, 0.1]).reshape(-1, 1) # Initialize beta"
   ]
  },
  {
   "cell_type": "code",
   "execution_count": null,
   "metadata": {},
   "outputs": [],
   "source": [
    "print(beta)"
   ]
  },
  {
   "cell_type": "markdown",
   "metadata": {},
   "source": [
    "#### Initialize the update value (set to be 1) for every iteration i.e.\n",
    "$\\Delta\\beta=({X}^T{W}{X})^{-1}{X}^T({y}-{p})$\n"
   ]
  },
  {
   "cell_type": "code",
   "execution_count": 33,
   "metadata": {},
   "outputs": [],
   "source": [
    "Deltabeta= np.array([0.1, 0.1, 0.1]).reshape(-1, 1)"
   ]
  },
  {
   "cell_type": "code",
   "execution_count": 34,
   "metadata": {},
   "outputs": [
    {
     "data": {
      "text/plain": [
       "array([[0.1],\n",
       "       [0.1],\n",
       "       [0.1]])"
      ]
     },
     "execution_count": 34,
     "metadata": {},
     "output_type": "execute_result"
    }
   ],
   "source": [
    "Deltabeta"
   ]
  },
  {
   "cell_type": "code",
   "execution_count": 35,
   "metadata": {},
   "outputs": [
    {
     "name": "stdout",
     "output_type": "stream",
     "text": [
      "[[0.40797669 0.09767266 1.27640957]]\n"
     ]
    }
   ],
   "source": [
    "while np.sum(np.abs(Deltabeta))>1e-15:\n",
    "    p=1/(1+np.exp(-np.matmul(X, beta))) #calculates the estimated probability\n",
    "    W=np.diag(np.multiply(p,(1-p))[:,0])\n",
    "    XtWX=np.matmul(np.matmul(X.T, W), X) #Hessian Matrix\n",
    "    XtY=np.matmul(X.T, (y-p))\n",
    "    Deltabeta=np.matmul(np.linalg.inv(XtWX), XtY)\n",
    "    beta=beta+Deltabeta\n",
    "print(beta.T)"
   ]
  },
  {
   "cell_type": "code",
   "execution_count": null,
   "metadata": {},
   "outputs": [],
   "source": [
    "p=1/(1+np.exp(-np.matmul(X, beta)))"
   ]
  },
  {
   "cell_type": "code",
   "execution_count": null,
   "metadata": {},
   "outputs": [],
   "source": [
    "W=np.diag(np.multiply(p,(1-p))[:,0])"
   ]
  },
  {
   "cell_type": "markdown",
   "metadata": {},
   "source": [
    "#### Model Prediction"
   ]
  },
  {
   "cell_type": "markdown",
   "metadata": {},
   "source": [
    "##### Prediction use home-made logistic regression model"
   ]
  },
  {
   "cell_type": "code",
   "execution_count": 36,
   "metadata": {},
   "outputs": [
    {
     "data": {
      "text/plain": [
       "array([0.68362177])"
      ]
     },
     "execution_count": 36,
     "metadata": {},
     "output_type": "execute_result"
    }
   ],
   "source": [
    "1/(1+np.exp(-np.dot(beta.T, X[0])))"
   ]
  },
  {
   "cell_type": "markdown",
   "metadata": {},
   "source": [
    "##### Prediction use sklearn built-in logistic regression model"
   ]
  },
  {
   "cell_type": "markdown",
   "metadata": {},
   "source": [
    "### Use sklearn package function \n",
    "```class sklearn.linear_model.LogisticRegression(penalty='l2', dual=False, tol=0.0001, C=1.0, fit_intercept=True, intercept_scaling=1, class_weight=None, random_state=None, solver='lbfgs', max_iter=100, multi_class='auto', verbose=0, warm_start=False, n_jobs=None, l1_ratio=None)```\n",
    "\n",
    "##### Memebers: coef_ ... et.c\n",
    "##### Methods: fit(self, X, y[, sample_weight]) ... etc.\n",
    "\n",
    "#### More Details https://scikit-learn.org/stable/modules/generated/sklearn.linear_model.LinearRegression.html"
   ]
  },
  {
   "cell_type": "code",
   "execution_count": 37,
   "metadata": {},
   "outputs": [
    {
     "name": "stdout",
     "output_type": "stream",
     "text": [
      "[array([[0.40797669, 0.09767266, 1.27640956]]), array([0.])]\n"
     ]
    }
   ],
   "source": [
    "from sklearn.linear_model import LogisticRegression\n",
    "lr=LogisticRegression(penalty='none', solver='newton-cg', fit_intercept=False)\n",
    "\n",
    "lr.fit(X,y.reshape(y.size))\n",
    "\n",
    "print([lr.coef_, lr.intercept_])"
   ]
  },
  {
   "cell_type": "code",
   "execution_count": 40,
   "metadata": {},
   "outputs": [
    {
     "data": {
      "text/plain": [
       "array([[0.31637823, 0.68362177]])"
      ]
     },
     "execution_count": 40,
     "metadata": {},
     "output_type": "execute_result"
    }
   ],
   "source": [
    "lr.predict_proba(X[0:1])"
   ]
  },
  {
   "cell_type": "code",
   "execution_count": 41,
   "metadata": {},
   "outputs": [
    {
     "data": {
      "text/plain": [
       "1.0"
      ]
     },
     "execution_count": 41,
     "metadata": {},
     "output_type": "execute_result"
    }
   ],
   "source": [
    "np.sum(lr.predict_proba(X[0:1]))"
   ]
  },
  {
   "cell_type": "code",
   "execution_count": null,
   "metadata": {},
   "outputs": [],
   "source": []
  }
 ],
 "metadata": {
  "kernelspec": {
   "display_name": "Python 3",
   "language": "python",
   "name": "python3"
  },
  "language_info": {
   "codemirror_mode": {
    "name": "ipython",
    "version": 3
   },
   "file_extension": ".py",
   "mimetype": "text/x-python",
   "name": "python",
   "nbconvert_exporter": "python",
   "pygments_lexer": "ipython3",
   "version": "3.8.3"
  }
 },
 "nbformat": 4,
 "nbformat_minor": 2
}
